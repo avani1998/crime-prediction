{
  "nbformat": 4,
  "nbformat_minor": 0,
  "metadata": {
    "colab": {
      "provenance": [],
      "include_colab_link": true
    },
    "kernelspec": {
      "name": "python3",
      "display_name": "Python 3"
    },
    "language_info": {
      "name": "python"
    }
  },
  "cells": [
    {
      "cell_type": "markdown",
      "metadata": {
        "id": "view-in-github",
        "colab_type": "text"
      },
      "source": [
        "<a href=\"https://colab.research.google.com/github/avani1998/crime-prediction/blob/main/crime_prediction.ipynb\" target=\"_parent\"><img src=\"https://colab.research.google.com/assets/colab-badge.svg\" alt=\"Open In Colab\"/></a>"
      ]
    },
    {
      "cell_type": "markdown",
      "source": [
        "Data used in this project is a combination of features extracted\n",
        "from four individual datasets.\n",
        "1. The data for Literacy Rate as\n",
        "well as Population of each state in India was scraped from the\n",
        "15th Official Census calculation conducted in 2011\n",
        "2. Data for Poverty Rate in India is based on Tendulkar poverty\n",
        "estimation and was appropriated from the official website of\n",
        "data.gov.in.\n",
        "3. The data for unemployment rates of each state in\n",
        "India was scraped from the NSSO (National Sample Survey\n",
        "Office) report for unemployment released by the Ministry of\n",
        "Statistics and Programme Implementation.\n",
        "4. The crime data was sourced from the NCRB (National Crime Records Beareau) website"
      ],
      "metadata": {
        "id": "UPdrUDiVs2Ux"
      }
    },
    {
      "cell_type": "code",
      "metadata": {
        "id": "d9a7gq0wZi6t"
      },
      "source": [
        "import pandas as pd\n",
        "import matplotlib.pyplot as plt\n",
        "import numpy as np\n",
        "import seaborn as sns\n",
        "from sklearn import linear_model\n",
        "import plotly.express as px\n",
        "import plotly.figure_factory as ff\n",
        "from sklearn.metrics import mean_squared_error, r2_score\n",
        "from sklearn.model_selection import train_test_split"
      ],
      "execution_count": null,
      "outputs": []
    },
    {
      "cell_type": "code",
      "metadata": {
        "colab": {
          "base_uri": "https://localhost:8080/"
        },
        "id": "DWcct8SpZ-FH",
        "outputId": "02868aa4-812d-485c-fafc-acfb86c58595"
      },
      "source": [
        "factors_df = pd.read_csv(\"factors.csv\")\n",
        "for col in factors_df.columns:\n",
        "  print(col)"
      ],
      "execution_count": null,
      "outputs": [
        {
          "output_type": "stream",
          "name": "stdout",
          "text": [
            "State/UT\n",
            "Literacy rate\n",
            "poverty rate\n",
            "Unemployment Rate (in %) - NSSO - 2011-12\n",
            "crime rate\n",
            "%contribution\n",
            "BPL\n",
            "Unemploy\n"
          ]
        }
      ]
    },
    {
      "cell_type": "code",
      "metadata": {
        "id": "CFEZYk47aKsv"
      },
      "source": [
        "factors_df.rename(columns={'Unemployment Rate (in %) - NSSO - 2011-12':'Unemployment rate','poverty rate':'Poverty rate','%contribution':'% Crime contribution'},\n",
        "            inplace=True)"
      ],
      "execution_count": null,
      "outputs": []
    },
    {
      "cell_type": "code",
      "metadata": {
        "id": "8_Elvg36aqch"
      },
      "source": [
        "factors_df.drop(['crime rate','Unemploy'],axis=1, inplace=True)"
      ],
      "execution_count": null,
      "outputs": []
    },
    {
      "cell_type": "code",
      "metadata": {
        "id": "g12rUoBubNNk",
        "colab": {
          "base_uri": "https://localhost:8080/",
          "height": 204
        },
        "outputId": "1fd5279d-d3ad-49a0-9b7e-51d0804c44e5"
      },
      "source": [
        "factors_df.dropna(inplace=True)\n",
        "factors_df.head()"
      ],
      "execution_count": null,
      "outputs": [
        {
          "output_type": "execute_result",
          "data": {
            "text/plain": [
              "            State/UT  Literacy rate  Poverty rate  Unemployment rate  \\\n",
              "0     Andhra Pradesh          67.02          9.20                2.0   \n",
              "1  Arunachal Pradesh          65.38         34.67                2.2   \n",
              "2              Assam          72.19         31.98                4.6   \n",
              "3              Bihar          61.80         33.70                3.4   \n",
              "4       Chhattisgarh          70.28         35.93                1.4   \n",
              "\n",
              "   % Crime contribution   BPL  \n",
              "0                   8.2   5.8  \n",
              "1                   0.1  20.3  \n",
              "2                   2.9  20.5  \n",
              "3                   5.8  31.2  \n",
              "4                   2.5  24.8  "
            ],
            "text/html": [
              "\n",
              "  <div id=\"df-9d338d94-90ca-4f31-a613-717b329ea586\" class=\"colab-df-container\">\n",
              "    <div>\n",
              "<style scoped>\n",
              "    .dataframe tbody tr th:only-of-type {\n",
              "        vertical-align: middle;\n",
              "    }\n",
              "\n",
              "    .dataframe tbody tr th {\n",
              "        vertical-align: top;\n",
              "    }\n",
              "\n",
              "    .dataframe thead th {\n",
              "        text-align: right;\n",
              "    }\n",
              "</style>\n",
              "<table border=\"1\" class=\"dataframe\">\n",
              "  <thead>\n",
              "    <tr style=\"text-align: right;\">\n",
              "      <th></th>\n",
              "      <th>State/UT</th>\n",
              "      <th>Literacy rate</th>\n",
              "      <th>Poverty rate</th>\n",
              "      <th>Unemployment rate</th>\n",
              "      <th>% Crime contribution</th>\n",
              "      <th>BPL</th>\n",
              "    </tr>\n",
              "  </thead>\n",
              "  <tbody>\n",
              "    <tr>\n",
              "      <th>0</th>\n",
              "      <td>Andhra Pradesh</td>\n",
              "      <td>67.02</td>\n",
              "      <td>9.20</td>\n",
              "      <td>2.0</td>\n",
              "      <td>8.2</td>\n",
              "      <td>5.8</td>\n",
              "    </tr>\n",
              "    <tr>\n",
              "      <th>1</th>\n",
              "      <td>Arunachal Pradesh</td>\n",
              "      <td>65.38</td>\n",
              "      <td>34.67</td>\n",
              "      <td>2.2</td>\n",
              "      <td>0.1</td>\n",
              "      <td>20.3</td>\n",
              "    </tr>\n",
              "    <tr>\n",
              "      <th>2</th>\n",
              "      <td>Assam</td>\n",
              "      <td>72.19</td>\n",
              "      <td>31.98</td>\n",
              "      <td>4.6</td>\n",
              "      <td>2.9</td>\n",
              "      <td>20.5</td>\n",
              "    </tr>\n",
              "    <tr>\n",
              "      <th>3</th>\n",
              "      <td>Bihar</td>\n",
              "      <td>61.80</td>\n",
              "      <td>33.70</td>\n",
              "      <td>3.4</td>\n",
              "      <td>5.8</td>\n",
              "      <td>31.2</td>\n",
              "    </tr>\n",
              "    <tr>\n",
              "      <th>4</th>\n",
              "      <td>Chhattisgarh</td>\n",
              "      <td>70.28</td>\n",
              "      <td>35.93</td>\n",
              "      <td>1.4</td>\n",
              "      <td>2.5</td>\n",
              "      <td>24.8</td>\n",
              "    </tr>\n",
              "  </tbody>\n",
              "</table>\n",
              "</div>\n",
              "    <div class=\"colab-df-buttons\">\n",
              "\n",
              "  <div class=\"colab-df-container\">\n",
              "    <button class=\"colab-df-convert\" onclick=\"convertToInteractive('df-9d338d94-90ca-4f31-a613-717b329ea586')\"\n",
              "            title=\"Convert this dataframe to an interactive table.\"\n",
              "            style=\"display:none;\">\n",
              "\n",
              "  <svg xmlns=\"http://www.w3.org/2000/svg\" height=\"24px\" viewBox=\"0 -960 960 960\">\n",
              "    <path d=\"M120-120v-720h720v720H120Zm60-500h600v-160H180v160Zm220 220h160v-160H400v160Zm0 220h160v-160H400v160ZM180-400h160v-160H180v160Zm440 0h160v-160H620v160ZM180-180h160v-160H180v160Zm440 0h160v-160H620v160Z\"/>\n",
              "  </svg>\n",
              "    </button>\n",
              "\n",
              "  <style>\n",
              "    .colab-df-container {\n",
              "      display:flex;\n",
              "      gap: 12px;\n",
              "    }\n",
              "\n",
              "    .colab-df-convert {\n",
              "      background-color: #E8F0FE;\n",
              "      border: none;\n",
              "      border-radius: 50%;\n",
              "      cursor: pointer;\n",
              "      display: none;\n",
              "      fill: #1967D2;\n",
              "      height: 32px;\n",
              "      padding: 0 0 0 0;\n",
              "      width: 32px;\n",
              "    }\n",
              "\n",
              "    .colab-df-convert:hover {\n",
              "      background-color: #E2EBFA;\n",
              "      box-shadow: 0px 1px 2px rgba(60, 64, 67, 0.3), 0px 1px 3px 1px rgba(60, 64, 67, 0.15);\n",
              "      fill: #174EA6;\n",
              "    }\n",
              "\n",
              "    .colab-df-buttons div {\n",
              "      margin-bottom: 4px;\n",
              "    }\n",
              "\n",
              "    [theme=dark] .colab-df-convert {\n",
              "      background-color: #3B4455;\n",
              "      fill: #D2E3FC;\n",
              "    }\n",
              "\n",
              "    [theme=dark] .colab-df-convert:hover {\n",
              "      background-color: #434B5C;\n",
              "      box-shadow: 0px 1px 3px 1px rgba(0, 0, 0, 0.15);\n",
              "      filter: drop-shadow(0px 1px 2px rgba(0, 0, 0, 0.3));\n",
              "      fill: #FFFFFF;\n",
              "    }\n",
              "  </style>\n",
              "\n",
              "    <script>\n",
              "      const buttonEl =\n",
              "        document.querySelector('#df-9d338d94-90ca-4f31-a613-717b329ea586 button.colab-df-convert');\n",
              "      buttonEl.style.display =\n",
              "        google.colab.kernel.accessAllowed ? 'block' : 'none';\n",
              "\n",
              "      async function convertToInteractive(key) {\n",
              "        const element = document.querySelector('#df-9d338d94-90ca-4f31-a613-717b329ea586');\n",
              "        const dataTable =\n",
              "          await google.colab.kernel.invokeFunction('convertToInteractive',\n",
              "                                                    [key], {});\n",
              "        if (!dataTable) return;\n",
              "\n",
              "        const docLinkHtml = 'Like what you see? Visit the ' +\n",
              "          '<a target=\"_blank\" href=https://colab.research.google.com/notebooks/data_table.ipynb>data table notebook</a>'\n",
              "          + ' to learn more about interactive tables.';\n",
              "        element.innerHTML = '';\n",
              "        dataTable['output_type'] = 'display_data';\n",
              "        await google.colab.output.renderOutput(dataTable, element);\n",
              "        const docLink = document.createElement('div');\n",
              "        docLink.innerHTML = docLinkHtml;\n",
              "        element.appendChild(docLink);\n",
              "      }\n",
              "    </script>\n",
              "  </div>\n",
              "\n",
              "\n",
              "<div id=\"df-8323de48-4644-433d-84ee-a01add7613fc\">\n",
              "  <button class=\"colab-df-quickchart\" onclick=\"quickchart('df-8323de48-4644-433d-84ee-a01add7613fc')\"\n",
              "            title=\"Suggest charts\"\n",
              "            style=\"display:none;\">\n",
              "\n",
              "<svg xmlns=\"http://www.w3.org/2000/svg\" height=\"24px\"viewBox=\"0 0 24 24\"\n",
              "     width=\"24px\">\n",
              "    <g>\n",
              "        <path d=\"M19 3H5c-1.1 0-2 .9-2 2v14c0 1.1.9 2 2 2h14c1.1 0 2-.9 2-2V5c0-1.1-.9-2-2-2zM9 17H7v-7h2v7zm4 0h-2V7h2v10zm4 0h-2v-4h2v4z\"/>\n",
              "    </g>\n",
              "</svg>\n",
              "  </button>\n",
              "\n",
              "<style>\n",
              "  .colab-df-quickchart {\n",
              "      --bg-color: #E8F0FE;\n",
              "      --fill-color: #1967D2;\n",
              "      --hover-bg-color: #E2EBFA;\n",
              "      --hover-fill-color: #174EA6;\n",
              "      --disabled-fill-color: #AAA;\n",
              "      --disabled-bg-color: #DDD;\n",
              "  }\n",
              "\n",
              "  [theme=dark] .colab-df-quickchart {\n",
              "      --bg-color: #3B4455;\n",
              "      --fill-color: #D2E3FC;\n",
              "      --hover-bg-color: #434B5C;\n",
              "      --hover-fill-color: #FFFFFF;\n",
              "      --disabled-bg-color: #3B4455;\n",
              "      --disabled-fill-color: #666;\n",
              "  }\n",
              "\n",
              "  .colab-df-quickchart {\n",
              "    background-color: var(--bg-color);\n",
              "    border: none;\n",
              "    border-radius: 50%;\n",
              "    cursor: pointer;\n",
              "    display: none;\n",
              "    fill: var(--fill-color);\n",
              "    height: 32px;\n",
              "    padding: 0;\n",
              "    width: 32px;\n",
              "  }\n",
              "\n",
              "  .colab-df-quickchart:hover {\n",
              "    background-color: var(--hover-bg-color);\n",
              "    box-shadow: 0 1px 2px rgba(60, 64, 67, 0.3), 0 1px 3px 1px rgba(60, 64, 67, 0.15);\n",
              "    fill: var(--button-hover-fill-color);\n",
              "  }\n",
              "\n",
              "  .colab-df-quickchart-complete:disabled,\n",
              "  .colab-df-quickchart-complete:disabled:hover {\n",
              "    background-color: var(--disabled-bg-color);\n",
              "    fill: var(--disabled-fill-color);\n",
              "    box-shadow: none;\n",
              "  }\n",
              "\n",
              "  .colab-df-spinner {\n",
              "    border: 2px solid var(--fill-color);\n",
              "    border-color: transparent;\n",
              "    border-bottom-color: var(--fill-color);\n",
              "    animation:\n",
              "      spin 1s steps(1) infinite;\n",
              "  }\n",
              "\n",
              "  @keyframes spin {\n",
              "    0% {\n",
              "      border-color: transparent;\n",
              "      border-bottom-color: var(--fill-color);\n",
              "      border-left-color: var(--fill-color);\n",
              "    }\n",
              "    20% {\n",
              "      border-color: transparent;\n",
              "      border-left-color: var(--fill-color);\n",
              "      border-top-color: var(--fill-color);\n",
              "    }\n",
              "    30% {\n",
              "      border-color: transparent;\n",
              "      border-left-color: var(--fill-color);\n",
              "      border-top-color: var(--fill-color);\n",
              "      border-right-color: var(--fill-color);\n",
              "    }\n",
              "    40% {\n",
              "      border-color: transparent;\n",
              "      border-right-color: var(--fill-color);\n",
              "      border-top-color: var(--fill-color);\n",
              "    }\n",
              "    60% {\n",
              "      border-color: transparent;\n",
              "      border-right-color: var(--fill-color);\n",
              "    }\n",
              "    80% {\n",
              "      border-color: transparent;\n",
              "      border-right-color: var(--fill-color);\n",
              "      border-bottom-color: var(--fill-color);\n",
              "    }\n",
              "    90% {\n",
              "      border-color: transparent;\n",
              "      border-bottom-color: var(--fill-color);\n",
              "    }\n",
              "  }\n",
              "</style>\n",
              "\n",
              "  <script>\n",
              "    async function quickchart(key) {\n",
              "      const quickchartButtonEl =\n",
              "        document.querySelector('#' + key + ' button');\n",
              "      quickchartButtonEl.disabled = true;  // To prevent multiple clicks.\n",
              "      quickchartButtonEl.classList.add('colab-df-spinner');\n",
              "      try {\n",
              "        const charts = await google.colab.kernel.invokeFunction(\n",
              "            'suggestCharts', [key], {});\n",
              "      } catch (error) {\n",
              "        console.error('Error during call to suggestCharts:', error);\n",
              "      }\n",
              "      quickchartButtonEl.classList.remove('colab-df-spinner');\n",
              "      quickchartButtonEl.classList.add('colab-df-quickchart-complete');\n",
              "    }\n",
              "    (() => {\n",
              "      let quickchartButtonEl =\n",
              "        document.querySelector('#df-8323de48-4644-433d-84ee-a01add7613fc button');\n",
              "      quickchartButtonEl.style.display =\n",
              "        google.colab.kernel.accessAllowed ? 'block' : 'none';\n",
              "    })();\n",
              "  </script>\n",
              "</div>\n",
              "\n",
              "    </div>\n",
              "  </div>\n"
            ],
            "application/vnd.google.colaboratory.intrinsic+json": {
              "type": "dataframe",
              "variable_name": "factors_df",
              "summary": "{\n  \"name\": \"factors_df\",\n  \"rows\": 35,\n  \"fields\": [\n    {\n      \"column\": \"State/UT\",\n      \"properties\": {\n        \"dtype\": \"string\",\n        \"num_unique_values\": 35,\n        \"samples\": [\n          \"Uttarakhand\",\n          \"Kerala\",\n          \"Tamil Nadu\"\n        ],\n        \"semantic_type\": \"\",\n        \"description\": \"\"\n      }\n    },\n    {\n      \"column\": \"Literacy rate\",\n      \"properties\": {\n        \"dtype\": \"number\",\n        \"std\": 8.598837296817685,\n        \"min\": 61.8,\n        \"max\": 94.0,\n        \"num_unique_values\": 35,\n        \"samples\": [\n          79.63,\n          94.0,\n          80.09\n        ],\n        \"semantic_type\": \"\",\n        \"description\": \"\"\n      }\n    },\n    {\n      \"column\": \"Poverty rate\",\n      \"properties\": {\n        \"dtype\": \"number\",\n        \"std\": 11.199135733460443,\n        \"min\": 1.0,\n        \"max\": 39.31,\n        \"num_unique_values\": 35,\n        \"samples\": [\n          29.43,\n          1.05,\n          11.28\n        ],\n        \"semantic_type\": \"\",\n        \"description\": \"\"\n      }\n    },\n    {\n      \"column\": \"Unemployment rate\",\n      \"properties\": {\n        \"dtype\": \"number\",\n        \"std\": 3.8811914483600947,\n        \"min\": 0.0,\n        \"max\": 17.7,\n        \"num_unique_values\": 30,\n        \"samples\": [\n          0.1,\n          0.8,\n          3.3\n        ],\n        \"semantic_type\": \"\",\n        \"description\": \"\"\n      }\n    },\n    {\n      \"column\": \"% Crime contribution\",\n      \"properties\": {\n        \"dtype\": \"number\",\n        \"std\": 3.286187032121579,\n        \"min\": 0.0,\n        \"max\": 9.3,\n        \"num_unique_values\": 22,\n        \"samples\": [\n          8.2,\n          9.3,\n          0.6\n        ],\n        \"semantic_type\": \"\",\n        \"description\": \"\"\n      }\n    },\n    {\n      \"column\": \"BPL\",\n      \"properties\": {\n        \"dtype\": \"number\",\n        \"std\": 8.340656726052737,\n        \"min\": 0.0,\n        \"max\": 32.6,\n        \"num_unique_values\": 34,\n        \"samples\": [\n          32.6,\n          17.3,\n          14.7\n        ],\n        \"semantic_type\": \"\",\n        \"description\": \"\"\n      }\n    }\n  ]\n}"
            }
          },
          "metadata": {},
          "execution_count": 46
        }
      ]
    },
    {
      "cell_type": "code",
      "metadata": {
        "colab": {
          "base_uri": "https://localhost:8080/",
          "height": 204
        },
        "id": "L3jPsTFZbYeZ",
        "outputId": "dba86ec4-67d0-475f-e6c8-7b8eb8a6ea15"
      },
      "source": [
        "keep_columns=['Unemployment rate','% Crime contribution','Poverty rate','Literacy rate']\n",
        "df=factors_df[keep_columns]\n",
        "df.head()"
      ],
      "execution_count": null,
      "outputs": [
        {
          "output_type": "execute_result",
          "data": {
            "text/plain": [
              "   Unemployment rate  % Crime contribution  Poverty rate  Literacy rate\n",
              "0                2.0                   8.2          9.20          67.02\n",
              "1                2.2                   0.1         34.67          65.38\n",
              "2                4.6                   2.9         31.98          72.19\n",
              "3                3.4                   5.8         33.70          61.80\n",
              "4                1.4                   2.5         35.93          70.28"
            ],
            "text/html": [
              "\n",
              "  <div id=\"df-b5e9bd55-74bb-4566-b86f-5dd725ef03a1\" class=\"colab-df-container\">\n",
              "    <div>\n",
              "<style scoped>\n",
              "    .dataframe tbody tr th:only-of-type {\n",
              "        vertical-align: middle;\n",
              "    }\n",
              "\n",
              "    .dataframe tbody tr th {\n",
              "        vertical-align: top;\n",
              "    }\n",
              "\n",
              "    .dataframe thead th {\n",
              "        text-align: right;\n",
              "    }\n",
              "</style>\n",
              "<table border=\"1\" class=\"dataframe\">\n",
              "  <thead>\n",
              "    <tr style=\"text-align: right;\">\n",
              "      <th></th>\n",
              "      <th>Unemployment rate</th>\n",
              "      <th>% Crime contribution</th>\n",
              "      <th>Poverty rate</th>\n",
              "      <th>Literacy rate</th>\n",
              "    </tr>\n",
              "  </thead>\n",
              "  <tbody>\n",
              "    <tr>\n",
              "      <th>0</th>\n",
              "      <td>2.0</td>\n",
              "      <td>8.2</td>\n",
              "      <td>9.20</td>\n",
              "      <td>67.02</td>\n",
              "    </tr>\n",
              "    <tr>\n",
              "      <th>1</th>\n",
              "      <td>2.2</td>\n",
              "      <td>0.1</td>\n",
              "      <td>34.67</td>\n",
              "      <td>65.38</td>\n",
              "    </tr>\n",
              "    <tr>\n",
              "      <th>2</th>\n",
              "      <td>4.6</td>\n",
              "      <td>2.9</td>\n",
              "      <td>31.98</td>\n",
              "      <td>72.19</td>\n",
              "    </tr>\n",
              "    <tr>\n",
              "      <th>3</th>\n",
              "      <td>3.4</td>\n",
              "      <td>5.8</td>\n",
              "      <td>33.70</td>\n",
              "      <td>61.80</td>\n",
              "    </tr>\n",
              "    <tr>\n",
              "      <th>4</th>\n",
              "      <td>1.4</td>\n",
              "      <td>2.5</td>\n",
              "      <td>35.93</td>\n",
              "      <td>70.28</td>\n",
              "    </tr>\n",
              "  </tbody>\n",
              "</table>\n",
              "</div>\n",
              "    <div class=\"colab-df-buttons\">\n",
              "\n",
              "  <div class=\"colab-df-container\">\n",
              "    <button class=\"colab-df-convert\" onclick=\"convertToInteractive('df-b5e9bd55-74bb-4566-b86f-5dd725ef03a1')\"\n",
              "            title=\"Convert this dataframe to an interactive table.\"\n",
              "            style=\"display:none;\">\n",
              "\n",
              "  <svg xmlns=\"http://www.w3.org/2000/svg\" height=\"24px\" viewBox=\"0 -960 960 960\">\n",
              "    <path d=\"M120-120v-720h720v720H120Zm60-500h600v-160H180v160Zm220 220h160v-160H400v160Zm0 220h160v-160H400v160ZM180-400h160v-160H180v160Zm440 0h160v-160H620v160ZM180-180h160v-160H180v160Zm440 0h160v-160H620v160Z\"/>\n",
              "  </svg>\n",
              "    </button>\n",
              "\n",
              "  <style>\n",
              "    .colab-df-container {\n",
              "      display:flex;\n",
              "      gap: 12px;\n",
              "    }\n",
              "\n",
              "    .colab-df-convert {\n",
              "      background-color: #E8F0FE;\n",
              "      border: none;\n",
              "      border-radius: 50%;\n",
              "      cursor: pointer;\n",
              "      display: none;\n",
              "      fill: #1967D2;\n",
              "      height: 32px;\n",
              "      padding: 0 0 0 0;\n",
              "      width: 32px;\n",
              "    }\n",
              "\n",
              "    .colab-df-convert:hover {\n",
              "      background-color: #E2EBFA;\n",
              "      box-shadow: 0px 1px 2px rgba(60, 64, 67, 0.3), 0px 1px 3px 1px rgba(60, 64, 67, 0.15);\n",
              "      fill: #174EA6;\n",
              "    }\n",
              "\n",
              "    .colab-df-buttons div {\n",
              "      margin-bottom: 4px;\n",
              "    }\n",
              "\n",
              "    [theme=dark] .colab-df-convert {\n",
              "      background-color: #3B4455;\n",
              "      fill: #D2E3FC;\n",
              "    }\n",
              "\n",
              "    [theme=dark] .colab-df-convert:hover {\n",
              "      background-color: #434B5C;\n",
              "      box-shadow: 0px 1px 3px 1px rgba(0, 0, 0, 0.15);\n",
              "      filter: drop-shadow(0px 1px 2px rgba(0, 0, 0, 0.3));\n",
              "      fill: #FFFFFF;\n",
              "    }\n",
              "  </style>\n",
              "\n",
              "    <script>\n",
              "      const buttonEl =\n",
              "        document.querySelector('#df-b5e9bd55-74bb-4566-b86f-5dd725ef03a1 button.colab-df-convert');\n",
              "      buttonEl.style.display =\n",
              "        google.colab.kernel.accessAllowed ? 'block' : 'none';\n",
              "\n",
              "      async function convertToInteractive(key) {\n",
              "        const element = document.querySelector('#df-b5e9bd55-74bb-4566-b86f-5dd725ef03a1');\n",
              "        const dataTable =\n",
              "          await google.colab.kernel.invokeFunction('convertToInteractive',\n",
              "                                                    [key], {});\n",
              "        if (!dataTable) return;\n",
              "\n",
              "        const docLinkHtml = 'Like what you see? Visit the ' +\n",
              "          '<a target=\"_blank\" href=https://colab.research.google.com/notebooks/data_table.ipynb>data table notebook</a>'\n",
              "          + ' to learn more about interactive tables.';\n",
              "        element.innerHTML = '';\n",
              "        dataTable['output_type'] = 'display_data';\n",
              "        await google.colab.output.renderOutput(dataTable, element);\n",
              "        const docLink = document.createElement('div');\n",
              "        docLink.innerHTML = docLinkHtml;\n",
              "        element.appendChild(docLink);\n",
              "      }\n",
              "    </script>\n",
              "  </div>\n",
              "\n",
              "\n",
              "<div id=\"df-999bc6b0-57d6-47d3-8bc0-dc39694af487\">\n",
              "  <button class=\"colab-df-quickchart\" onclick=\"quickchart('df-999bc6b0-57d6-47d3-8bc0-dc39694af487')\"\n",
              "            title=\"Suggest charts\"\n",
              "            style=\"display:none;\">\n",
              "\n",
              "<svg xmlns=\"http://www.w3.org/2000/svg\" height=\"24px\"viewBox=\"0 0 24 24\"\n",
              "     width=\"24px\">\n",
              "    <g>\n",
              "        <path d=\"M19 3H5c-1.1 0-2 .9-2 2v14c0 1.1.9 2 2 2h14c1.1 0 2-.9 2-2V5c0-1.1-.9-2-2-2zM9 17H7v-7h2v7zm4 0h-2V7h2v10zm4 0h-2v-4h2v4z\"/>\n",
              "    </g>\n",
              "</svg>\n",
              "  </button>\n",
              "\n",
              "<style>\n",
              "  .colab-df-quickchart {\n",
              "      --bg-color: #E8F0FE;\n",
              "      --fill-color: #1967D2;\n",
              "      --hover-bg-color: #E2EBFA;\n",
              "      --hover-fill-color: #174EA6;\n",
              "      --disabled-fill-color: #AAA;\n",
              "      --disabled-bg-color: #DDD;\n",
              "  }\n",
              "\n",
              "  [theme=dark] .colab-df-quickchart {\n",
              "      --bg-color: #3B4455;\n",
              "      --fill-color: #D2E3FC;\n",
              "      --hover-bg-color: #434B5C;\n",
              "      --hover-fill-color: #FFFFFF;\n",
              "      --disabled-bg-color: #3B4455;\n",
              "      --disabled-fill-color: #666;\n",
              "  }\n",
              "\n",
              "  .colab-df-quickchart {\n",
              "    background-color: var(--bg-color);\n",
              "    border: none;\n",
              "    border-radius: 50%;\n",
              "    cursor: pointer;\n",
              "    display: none;\n",
              "    fill: var(--fill-color);\n",
              "    height: 32px;\n",
              "    padding: 0;\n",
              "    width: 32px;\n",
              "  }\n",
              "\n",
              "  .colab-df-quickchart:hover {\n",
              "    background-color: var(--hover-bg-color);\n",
              "    box-shadow: 0 1px 2px rgba(60, 64, 67, 0.3), 0 1px 3px 1px rgba(60, 64, 67, 0.15);\n",
              "    fill: var(--button-hover-fill-color);\n",
              "  }\n",
              "\n",
              "  .colab-df-quickchart-complete:disabled,\n",
              "  .colab-df-quickchart-complete:disabled:hover {\n",
              "    background-color: var(--disabled-bg-color);\n",
              "    fill: var(--disabled-fill-color);\n",
              "    box-shadow: none;\n",
              "  }\n",
              "\n",
              "  .colab-df-spinner {\n",
              "    border: 2px solid var(--fill-color);\n",
              "    border-color: transparent;\n",
              "    border-bottom-color: var(--fill-color);\n",
              "    animation:\n",
              "      spin 1s steps(1) infinite;\n",
              "  }\n",
              "\n",
              "  @keyframes spin {\n",
              "    0% {\n",
              "      border-color: transparent;\n",
              "      border-bottom-color: var(--fill-color);\n",
              "      border-left-color: var(--fill-color);\n",
              "    }\n",
              "    20% {\n",
              "      border-color: transparent;\n",
              "      border-left-color: var(--fill-color);\n",
              "      border-top-color: var(--fill-color);\n",
              "    }\n",
              "    30% {\n",
              "      border-color: transparent;\n",
              "      border-left-color: var(--fill-color);\n",
              "      border-top-color: var(--fill-color);\n",
              "      border-right-color: var(--fill-color);\n",
              "    }\n",
              "    40% {\n",
              "      border-color: transparent;\n",
              "      border-right-color: var(--fill-color);\n",
              "      border-top-color: var(--fill-color);\n",
              "    }\n",
              "    60% {\n",
              "      border-color: transparent;\n",
              "      border-right-color: var(--fill-color);\n",
              "    }\n",
              "    80% {\n",
              "      border-color: transparent;\n",
              "      border-right-color: var(--fill-color);\n",
              "      border-bottom-color: var(--fill-color);\n",
              "    }\n",
              "    90% {\n",
              "      border-color: transparent;\n",
              "      border-bottom-color: var(--fill-color);\n",
              "    }\n",
              "  }\n",
              "</style>\n",
              "\n",
              "  <script>\n",
              "    async function quickchart(key) {\n",
              "      const quickchartButtonEl =\n",
              "        document.querySelector('#' + key + ' button');\n",
              "      quickchartButtonEl.disabled = true;  // To prevent multiple clicks.\n",
              "      quickchartButtonEl.classList.add('colab-df-spinner');\n",
              "      try {\n",
              "        const charts = await google.colab.kernel.invokeFunction(\n",
              "            'suggestCharts', [key], {});\n",
              "      } catch (error) {\n",
              "        console.error('Error during call to suggestCharts:', error);\n",
              "      }\n",
              "      quickchartButtonEl.classList.remove('colab-df-spinner');\n",
              "      quickchartButtonEl.classList.add('colab-df-quickchart-complete');\n",
              "    }\n",
              "    (() => {\n",
              "      let quickchartButtonEl =\n",
              "        document.querySelector('#df-999bc6b0-57d6-47d3-8bc0-dc39694af487 button');\n",
              "      quickchartButtonEl.style.display =\n",
              "        google.colab.kernel.accessAllowed ? 'block' : 'none';\n",
              "    })();\n",
              "  </script>\n",
              "</div>\n",
              "\n",
              "    </div>\n",
              "  </div>\n"
            ],
            "application/vnd.google.colaboratory.intrinsic+json": {
              "type": "dataframe",
              "variable_name": "df",
              "summary": "{\n  \"name\": \"df\",\n  \"rows\": 35,\n  \"fields\": [\n    {\n      \"column\": \"Unemployment rate\",\n      \"properties\": {\n        \"dtype\": \"number\",\n        \"std\": 3.8811914483600947,\n        \"min\": 0.0,\n        \"max\": 17.7,\n        \"num_unique_values\": 30,\n        \"samples\": [\n          0.1,\n          0.8,\n          3.3\n        ],\n        \"semantic_type\": \"\",\n        \"description\": \"\"\n      }\n    },\n    {\n      \"column\": \"% Crime contribution\",\n      \"properties\": {\n        \"dtype\": \"number\",\n        \"std\": 3.286187032121579,\n        \"min\": 0.0,\n        \"max\": 9.3,\n        \"num_unique_values\": 22,\n        \"samples\": [\n          8.2,\n          9.3,\n          0.6\n        ],\n        \"semantic_type\": \"\",\n        \"description\": \"\"\n      }\n    },\n    {\n      \"column\": \"Poverty rate\",\n      \"properties\": {\n        \"dtype\": \"number\",\n        \"std\": 11.199135733460443,\n        \"min\": 1.0,\n        \"max\": 39.31,\n        \"num_unique_values\": 35,\n        \"samples\": [\n          29.43,\n          1.05,\n          11.28\n        ],\n        \"semantic_type\": \"\",\n        \"description\": \"\"\n      }\n    },\n    {\n      \"column\": \"Literacy rate\",\n      \"properties\": {\n        \"dtype\": \"number\",\n        \"std\": 8.598837296817685,\n        \"min\": 61.8,\n        \"max\": 94.0,\n        \"num_unique_values\": 35,\n        \"samples\": [\n          79.63,\n          94.0,\n          80.09\n        ],\n        \"semantic_type\": \"\",\n        \"description\": \"\"\n      }\n    }\n  ]\n}"
            }
          },
          "metadata": {},
          "execution_count": 47
        }
      ]
    },
    {
      "cell_type": "code",
      "metadata": {
        "colab": {
          "base_uri": "https://localhost:8080/",
          "height": 542
        },
        "id": "aeMrYIZj1Ncd",
        "outputId": "30f3ff72-5e2b-4d01-b0f7-c6b7ce73f097"
      },
      "source": [
        "import cufflinks as cf\n",
        "fig=df.iplot(asFigure=True,kind='box')\n",
        "fig.show()"
      ],
      "execution_count": null,
      "outputs": [
        {
          "output_type": "display_data",
          "data": {
            "text/html": [
              "<html>\n",
              "<head><meta charset=\"utf-8\" /></head>\n",
              "<body>\n",
              "    <div>            <script src=\"https://cdnjs.cloudflare.com/ajax/libs/mathjax/2.7.5/MathJax.js?config=TeX-AMS-MML_SVG\"></script><script type=\"text/javascript\">if (window.MathJax && window.MathJax.Hub && window.MathJax.Hub.Config) {window.MathJax.Hub.Config({SVG: {font: \"STIX-Web\"}});}</script>                <script type=\"text/javascript\">window.PlotlyConfig = {MathJaxConfig: 'local'};</script>\n",
              "        <script charset=\"utf-8\" src=\"https://cdn.plot.ly/plotly-2.35.2.min.js\"></script>                <div id=\"333a3f12-8647-4faa-80ef-f459d64d1881\" class=\"plotly-graph-div\" style=\"height:525px; width:100%;\"></div>            <script type=\"text/javascript\">                                    window.PLOTLYENV=window.PLOTLYENV || {};                                    if (document.getElementById(\"333a3f12-8647-4faa-80ef-f459d64d1881\")) {                    Plotly.newPlot(                        \"333a3f12-8647-4faa-80ef-f459d64d1881\",                        [{\"boxpoints\":false,\"line\":{\"width\":1.3},\"marker\":{\"color\":\"rgba(255, 153, 51, 1.0)\"},\"name\":\"Unemployment rate\",\"orientation\":\"v\",\"y\":[2.0,2.2,4.6,3.4,1.4,3.8,4.9,0.5,2.9,1.3,3.4,2.6,1.6,6.6,0.9,1.3,3.7,0.8,3.2,17.7,2.4,2.2,1.2,1.2,2.3,12.8,3.1,1.6,3.3,6.5,6.0,0.0,0.1,13.8,2.1],\"type\":\"box\"},{\"boxpoints\":false,\"line\":{\"width\":1.3},\"marker\":{\"color\":\"rgba(55, 128, 191, 1.0)\"},\"name\":\"% Crime contribution\",\"orientation\":\"v\",\"y\":[8.2,0.1,2.9,5.8,2.5,2.3,0.1,5.3,2.6,0.6,1.1,1.5,5.9,7.4,9.3,8.8,0.1,0.1,0.1,0.0,2.6,1.5,7.1,0.0,8.3,0.2,0.4,8.4,6.2,0.0,0.0,0.0,0.0,0.0,0.2],\"type\":\"box\"},{\"boxpoints\":false,\"line\":{\"width\":1.3},\"marker\":{\"color\":\"rgba(50, 171, 96, 1.0)\"},\"name\":\"Poverty rate\",\"orientation\":\"v\",\"y\":[9.2,34.67,31.98,33.7,35.93,9.91,5.09,17.63,11.16,8.0,10.35,31.96,20.91,1.05,31.65,17.75,31.89,11.87,20.87,18.88,32.6,8.26,14.71,8.19,11.28,14.05,29.43,11.26,13.98,1.0,21.81,39.31,9.86,2.77,9.69],\"type\":\"box\"},{\"boxpoints\":false,\"line\":{\"width\":1.3},\"marker\":{\"color\":\"rgba(128, 0, 128, 1.0)\"},\"name\":\"Literacy rate\",\"orientation\":\"v\",\"y\":[67.02,65.38,72.19,61.8,70.28,86.21,88.7,78.03,75.55,82.8,67.16,66.41,75.36,94.0,69.32,82.34,79.21,74.43,91.33,79.55,72.87,75.84,66.11,81.42,80.09,87.22,79.63,67.68,76.26,86.63,86.05,76.24,87.1,91.85,85.85],\"type\":\"box\"}],                        {\"legend\":{\"bgcolor\":\"#F5F6F9\",\"font\":{\"color\":\"#4D5663\"}},\"paper_bgcolor\":\"#F5F6F9\",\"plot_bgcolor\":\"#F5F6F9\",\"title\":{\"font\":{\"color\":\"#4D5663\"}},\"xaxis\":{\"gridcolor\":\"#E1E5ED\",\"showgrid\":true,\"tickfont\":{\"color\":\"#4D5663\"},\"title\":{\"text\":\"\",\"font\":{\"color\":\"#4D5663\"}},\"zerolinecolor\":\"#E1E5ED\"},\"yaxis\":{\"gridcolor\":\"#E1E5ED\",\"showgrid\":true,\"tickfont\":{\"color\":\"#4D5663\"},\"title\":{\"text\":\"\",\"font\":{\"color\":\"#4D5663\"}},\"zerolinecolor\":\"#E1E5ED\"},\"template\":{\"data\":{\"histogram2dcontour\":[{\"type\":\"histogram2dcontour\",\"colorbar\":{\"outlinewidth\":0,\"ticks\":\"\"},\"colorscale\":[[0.0,\"#0d0887\"],[0.1111111111111111,\"#46039f\"],[0.2222222222222222,\"#7201a8\"],[0.3333333333333333,\"#9c179e\"],[0.4444444444444444,\"#bd3786\"],[0.5555555555555556,\"#d8576b\"],[0.6666666666666666,\"#ed7953\"],[0.7777777777777778,\"#fb9f3a\"],[0.8888888888888888,\"#fdca26\"],[1.0,\"#f0f921\"]]}],\"choropleth\":[{\"type\":\"choropleth\",\"colorbar\":{\"outlinewidth\":0,\"ticks\":\"\"}}],\"histogram2d\":[{\"type\":\"histogram2d\",\"colorbar\":{\"outlinewidth\":0,\"ticks\":\"\"},\"colorscale\":[[0.0,\"#0d0887\"],[0.1111111111111111,\"#46039f\"],[0.2222222222222222,\"#7201a8\"],[0.3333333333333333,\"#9c179e\"],[0.4444444444444444,\"#bd3786\"],[0.5555555555555556,\"#d8576b\"],[0.6666666666666666,\"#ed7953\"],[0.7777777777777778,\"#fb9f3a\"],[0.8888888888888888,\"#fdca26\"],[1.0,\"#f0f921\"]]}],\"heatmap\":[{\"type\":\"heatmap\",\"colorbar\":{\"outlinewidth\":0,\"ticks\":\"\"},\"colorscale\":[[0.0,\"#0d0887\"],[0.1111111111111111,\"#46039f\"],[0.2222222222222222,\"#7201a8\"],[0.3333333333333333,\"#9c179e\"],[0.4444444444444444,\"#bd3786\"],[0.5555555555555556,\"#d8576b\"],[0.6666666666666666,\"#ed7953\"],[0.7777777777777778,\"#fb9f3a\"],[0.8888888888888888,\"#fdca26\"],[1.0,\"#f0f921\"]]}],\"heatmapgl\":[{\"type\":\"heatmapgl\",\"colorbar\":{\"outlinewidth\":0,\"ticks\":\"\"},\"colorscale\":[[0.0,\"#0d0887\"],[0.1111111111111111,\"#46039f\"],[0.2222222222222222,\"#7201a8\"],[0.3333333333333333,\"#9c179e\"],[0.4444444444444444,\"#bd3786\"],[0.5555555555555556,\"#d8576b\"],[0.6666666666666666,\"#ed7953\"],[0.7777777777777778,\"#fb9f3a\"],[0.8888888888888888,\"#fdca26\"],[1.0,\"#f0f921\"]]}],\"contourcarpet\":[{\"type\":\"contourcarpet\",\"colorbar\":{\"outlinewidth\":0,\"ticks\":\"\"}}],\"contour\":[{\"type\":\"contour\",\"colorbar\":{\"outlinewidth\":0,\"ticks\":\"\"},\"colorscale\":[[0.0,\"#0d0887\"],[0.1111111111111111,\"#46039f\"],[0.2222222222222222,\"#7201a8\"],[0.3333333333333333,\"#9c179e\"],[0.4444444444444444,\"#bd3786\"],[0.5555555555555556,\"#d8576b\"],[0.6666666666666666,\"#ed7953\"],[0.7777777777777778,\"#fb9f3a\"],[0.8888888888888888,\"#fdca26\"],[1.0,\"#f0f921\"]]}],\"surface\":[{\"type\":\"surface\",\"colorbar\":{\"outlinewidth\":0,\"ticks\":\"\"},\"colorscale\":[[0.0,\"#0d0887\"],[0.1111111111111111,\"#46039f\"],[0.2222222222222222,\"#7201a8\"],[0.3333333333333333,\"#9c179e\"],[0.4444444444444444,\"#bd3786\"],[0.5555555555555556,\"#d8576b\"],[0.6666666666666666,\"#ed7953\"],[0.7777777777777778,\"#fb9f3a\"],[0.8888888888888888,\"#fdca26\"],[1.0,\"#f0f921\"]]}],\"mesh3d\":[{\"type\":\"mesh3d\",\"colorbar\":{\"outlinewidth\":0,\"ticks\":\"\"}}],\"scatter\":[{\"fillpattern\":{\"fillmode\":\"overlay\",\"size\":10,\"solidity\":0.2},\"type\":\"scatter\"}],\"parcoords\":[{\"type\":\"parcoords\",\"line\":{\"colorbar\":{\"outlinewidth\":0,\"ticks\":\"\"}}}],\"scatterpolargl\":[{\"type\":\"scatterpolargl\",\"marker\":{\"colorbar\":{\"outlinewidth\":0,\"ticks\":\"\"}}}],\"bar\":[{\"error_x\":{\"color\":\"#2a3f5f\"},\"error_y\":{\"color\":\"#2a3f5f\"},\"marker\":{\"line\":{\"color\":\"#E5ECF6\",\"width\":0.5},\"pattern\":{\"fillmode\":\"overlay\",\"size\":10,\"solidity\":0.2}},\"type\":\"bar\"}],\"scattergeo\":[{\"type\":\"scattergeo\",\"marker\":{\"colorbar\":{\"outlinewidth\":0,\"ticks\":\"\"}}}],\"scatterpolar\":[{\"type\":\"scatterpolar\",\"marker\":{\"colorbar\":{\"outlinewidth\":0,\"ticks\":\"\"}}}],\"histogram\":[{\"marker\":{\"pattern\":{\"fillmode\":\"overlay\",\"size\":10,\"solidity\":0.2}},\"type\":\"histogram\"}],\"scattergl\":[{\"type\":\"scattergl\",\"marker\":{\"colorbar\":{\"outlinewidth\":0,\"ticks\":\"\"}}}],\"scatter3d\":[{\"type\":\"scatter3d\",\"line\":{\"colorbar\":{\"outlinewidth\":0,\"ticks\":\"\"}},\"marker\":{\"colorbar\":{\"outlinewidth\":0,\"ticks\":\"\"}}}],\"scattermapbox\":[{\"type\":\"scattermapbox\",\"marker\":{\"colorbar\":{\"outlinewidth\":0,\"ticks\":\"\"}}}],\"scatterternary\":[{\"type\":\"scatterternary\",\"marker\":{\"colorbar\":{\"outlinewidth\":0,\"ticks\":\"\"}}}],\"scattercarpet\":[{\"type\":\"scattercarpet\",\"marker\":{\"colorbar\":{\"outlinewidth\":0,\"ticks\":\"\"}}}],\"carpet\":[{\"aaxis\":{\"endlinecolor\":\"#2a3f5f\",\"gridcolor\":\"white\",\"linecolor\":\"white\",\"minorgridcolor\":\"white\",\"startlinecolor\":\"#2a3f5f\"},\"baxis\":{\"endlinecolor\":\"#2a3f5f\",\"gridcolor\":\"white\",\"linecolor\":\"white\",\"minorgridcolor\":\"white\",\"startlinecolor\":\"#2a3f5f\"},\"type\":\"carpet\"}],\"table\":[{\"cells\":{\"fill\":{\"color\":\"#EBF0F8\"},\"line\":{\"color\":\"white\"}},\"header\":{\"fill\":{\"color\":\"#C8D4E3\"},\"line\":{\"color\":\"white\"}},\"type\":\"table\"}],\"barpolar\":[{\"marker\":{\"line\":{\"color\":\"#E5ECF6\",\"width\":0.5},\"pattern\":{\"fillmode\":\"overlay\",\"size\":10,\"solidity\":0.2}},\"type\":\"barpolar\"}],\"pie\":[{\"automargin\":true,\"type\":\"pie\"}]},\"layout\":{\"autotypenumbers\":\"strict\",\"colorway\":[\"#636efa\",\"#EF553B\",\"#00cc96\",\"#ab63fa\",\"#FFA15A\",\"#19d3f3\",\"#FF6692\",\"#B6E880\",\"#FF97FF\",\"#FECB52\"],\"font\":{\"color\":\"#2a3f5f\"},\"hovermode\":\"closest\",\"hoverlabel\":{\"align\":\"left\"},\"paper_bgcolor\":\"white\",\"plot_bgcolor\":\"#E5ECF6\",\"polar\":{\"bgcolor\":\"#E5ECF6\",\"angularaxis\":{\"gridcolor\":\"white\",\"linecolor\":\"white\",\"ticks\":\"\"},\"radialaxis\":{\"gridcolor\":\"white\",\"linecolor\":\"white\",\"ticks\":\"\"}},\"ternary\":{\"bgcolor\":\"#E5ECF6\",\"aaxis\":{\"gridcolor\":\"white\",\"linecolor\":\"white\",\"ticks\":\"\"},\"baxis\":{\"gridcolor\":\"white\",\"linecolor\":\"white\",\"ticks\":\"\"},\"caxis\":{\"gridcolor\":\"white\",\"linecolor\":\"white\",\"ticks\":\"\"}},\"coloraxis\":{\"colorbar\":{\"outlinewidth\":0,\"ticks\":\"\"}},\"colorscale\":{\"sequential\":[[0.0,\"#0d0887\"],[0.1111111111111111,\"#46039f\"],[0.2222222222222222,\"#7201a8\"],[0.3333333333333333,\"#9c179e\"],[0.4444444444444444,\"#bd3786\"],[0.5555555555555556,\"#d8576b\"],[0.6666666666666666,\"#ed7953\"],[0.7777777777777778,\"#fb9f3a\"],[0.8888888888888888,\"#fdca26\"],[1.0,\"#f0f921\"]],\"sequentialminus\":[[0.0,\"#0d0887\"],[0.1111111111111111,\"#46039f\"],[0.2222222222222222,\"#7201a8\"],[0.3333333333333333,\"#9c179e\"],[0.4444444444444444,\"#bd3786\"],[0.5555555555555556,\"#d8576b\"],[0.6666666666666666,\"#ed7953\"],[0.7777777777777778,\"#fb9f3a\"],[0.8888888888888888,\"#fdca26\"],[1.0,\"#f0f921\"]],\"diverging\":[[0,\"#8e0152\"],[0.1,\"#c51b7d\"],[0.2,\"#de77ae\"],[0.3,\"#f1b6da\"],[0.4,\"#fde0ef\"],[0.5,\"#f7f7f7\"],[0.6,\"#e6f5d0\"],[0.7,\"#b8e186\"],[0.8,\"#7fbc41\"],[0.9,\"#4d9221\"],[1,\"#276419\"]]},\"xaxis\":{\"gridcolor\":\"white\",\"linecolor\":\"white\",\"ticks\":\"\",\"title\":{\"standoff\":15},\"zerolinecolor\":\"white\",\"automargin\":true,\"zerolinewidth\":2},\"yaxis\":{\"gridcolor\":\"white\",\"linecolor\":\"white\",\"ticks\":\"\",\"title\":{\"standoff\":15},\"zerolinecolor\":\"white\",\"automargin\":true,\"zerolinewidth\":2},\"scene\":{\"xaxis\":{\"backgroundcolor\":\"#E5ECF6\",\"gridcolor\":\"white\",\"linecolor\":\"white\",\"showbackground\":true,\"ticks\":\"\",\"zerolinecolor\":\"white\",\"gridwidth\":2},\"yaxis\":{\"backgroundcolor\":\"#E5ECF6\",\"gridcolor\":\"white\",\"linecolor\":\"white\",\"showbackground\":true,\"ticks\":\"\",\"zerolinecolor\":\"white\",\"gridwidth\":2},\"zaxis\":{\"backgroundcolor\":\"#E5ECF6\",\"gridcolor\":\"white\",\"linecolor\":\"white\",\"showbackground\":true,\"ticks\":\"\",\"zerolinecolor\":\"white\",\"gridwidth\":2}},\"shapedefaults\":{\"line\":{\"color\":\"#2a3f5f\"}},\"annotationdefaults\":{\"arrowcolor\":\"#2a3f5f\",\"arrowhead\":0,\"arrowwidth\":1},\"geo\":{\"bgcolor\":\"white\",\"landcolor\":\"#E5ECF6\",\"subunitcolor\":\"white\",\"showland\":true,\"showlakes\":true,\"lakecolor\":\"white\"},\"title\":{\"x\":0.05},\"mapbox\":{\"style\":\"light\"}}}},                        {\"responsive\": true}                    ).then(function(){\n",
              "                            \n",
              "var gd = document.getElementById('333a3f12-8647-4faa-80ef-f459d64d1881');\n",
              "var x = new MutationObserver(function (mutations, observer) {{\n",
              "        var display = window.getComputedStyle(gd).display;\n",
              "        if (!display || display === 'none') {{\n",
              "            console.log([gd, 'removed!']);\n",
              "            Plotly.purge(gd);\n",
              "            observer.disconnect();\n",
              "        }}\n",
              "}});\n",
              "\n",
              "// Listen for the removal of the full notebook cells\n",
              "var notebookContainer = gd.closest('#notebook-container');\n",
              "if (notebookContainer) {{\n",
              "    x.observe(notebookContainer, {childList: true});\n",
              "}}\n",
              "\n",
              "// Listen for the clearing of the current output cell\n",
              "var outputEl = gd.closest('.output');\n",
              "if (outputEl) {{\n",
              "    x.observe(outputEl, {childList: true});\n",
              "}}\n",
              "\n",
              "                        })                };                            </script>        </div>\n",
              "</body>\n",
              "</html>"
            ]
          },
          "metadata": {}
        }
      ]
    },
    {
      "cell_type": "markdown",
      "source": [
        "The box plot compares the distribution of the four variables:\n",
        "\n",
        "* **Unemployment rate:** The distribution is narrow and centered around low values, indicating that most unemployment rates in the dataset are relatively low, with little variation.\n",
        "* **% Crime contribution:** Similar to unemployment, this variable also has a small spread, suggesting that crime contribution is consistently low across observations.\n",
        "* **Poverty rate:** The range is wider, showing that poverty rates vary significantly across the dataset, with both lower and higher values compared to the other factors.\n",
        "* **Literacy rate:** This variable also shows significant variation, but at much higher values, indicating that literacy rates in the dataset tend to be high, but with some fluctuation between different regions or groups."
      ],
      "metadata": {
        "id": "vLBXLH1W002P"
      }
    },
    {
      "cell_type": "code",
      "metadata": {
        "id": "wlF6U87Y1N8h"
      },
      "source": [
        "# import plotly.express as px\n",
        "# fig1 = px.scatter(factors_df,x=\"Unemployment rate\",y=\"% Crime contribution\",color='State/UT')\n",
        "# fig1.show()\n",
        "# #fig2 = px.scatter(dan,x=\"poverty rate\",y=\"%contribution\",color='State/UT')\n",
        "# #fig2.show()\n",
        "# #fig3 = px.scatter(dan,x=\"Literacy rate\",y=\"%contribution\",color='State/UT')\n",
        "# #fig3.show()"
      ],
      "execution_count": null,
      "outputs": []
    },
    {
      "cell_type": "code",
      "metadata": {
        "colab": {
          "base_uri": "https://localhost:8080/",
          "height": 175
        },
        "id": "ihglq6fn1OWd",
        "outputId": "ce39f0e2-7c2b-44c1-c0ae-4b92aa512533"
      },
      "source": [
        "df.corr()"
      ],
      "execution_count": null,
      "outputs": [
        {
          "output_type": "execute_result",
          "data": {
            "text/html": [
              "<div>\n",
              "<style scoped>\n",
              "    .dataframe tbody tr th:only-of-type {\n",
              "        vertical-align: middle;\n",
              "    }\n",
              "\n",
              "    .dataframe tbody tr th {\n",
              "        vertical-align: top;\n",
              "    }\n",
              "\n",
              "    .dataframe thead th {\n",
              "        text-align: right;\n",
              "    }\n",
              "</style>\n",
              "<table border=\"1\" class=\"dataframe\">\n",
              "  <thead>\n",
              "    <tr style=\"text-align: right;\">\n",
              "      <th></th>\n",
              "      <th>Unemployment rate</th>\n",
              "      <th>% Crime contribution</th>\n",
              "      <th>Poverty rate</th>\n",
              "      <th>Literacy rate</th>\n",
              "    </tr>\n",
              "  </thead>\n",
              "  <tbody>\n",
              "    <tr>\n",
              "      <th>Unemployment rate</th>\n",
              "      <td>1.000000</td>\n",
              "      <td>-0.293774</td>\n",
              "      <td>-0.219876</td>\n",
              "      <td>0.390664</td>\n",
              "    </tr>\n",
              "    <tr>\n",
              "      <th>% Crime contribution</th>\n",
              "      <td>-0.293774</td>\n",
              "      <td>1.000000</td>\n",
              "      <td>-0.019121</td>\n",
              "      <td>-0.357863</td>\n",
              "    </tr>\n",
              "    <tr>\n",
              "      <th>Poverty rate</th>\n",
              "      <td>-0.219876</td>\n",
              "      <td>-0.019121</td>\n",
              "      <td>1.000000</td>\n",
              "      <td>-0.528483</td>\n",
              "    </tr>\n",
              "    <tr>\n",
              "      <th>Literacy rate</th>\n",
              "      <td>0.390664</td>\n",
              "      <td>-0.357863</td>\n",
              "      <td>-0.528483</td>\n",
              "      <td>1.000000</td>\n",
              "    </tr>\n",
              "  </tbody>\n",
              "</table>\n",
              "</div>"
            ],
            "text/plain": [
              "                      Unemployment rate  ...  Literacy rate\n",
              "Unemployment rate              1.000000  ...       0.390664\n",
              "% Crime contribution          -0.293774  ...      -0.357863\n",
              "Poverty rate                  -0.219876  ...      -0.528483\n",
              "Literacy rate                  0.390664  ...       1.000000\n",
              "\n",
              "[4 rows x 4 columns]"
            ]
          },
          "metadata": {},
          "execution_count": 129
        }
      ]
    },
    {
      "cell_type": "code",
      "metadata": {
        "colab": {
          "base_uri": "https://localhost:8080/",
          "height": 569
        },
        "id": "usr68a3D1Oqd",
        "outputId": "786668fb-49d2-45aa-a588-4a38293809de"
      },
      "source": [
        "coMatrix=df.corr()\n",
        "coMatrix.style.background_gradient(cmap='RdBu')\n",
        "\n",
        "ax = sns.heatmap(\n",
        "    coMatrix,\n",
        "    vmin=-1, vmax=1, center=0,\n",
        "    cmap=sns.diverging_palette(20, 220, n=200),\n",
        "    square=True)"
      ],
      "execution_count": null,
      "outputs": [
        {
          "output_type": "display_data",
          "data": {
            "text/plain": [
              "<Figure size 640x480 with 2 Axes>"
            ],
            "image/png": "[encoded data removed]"
          },
          "metadata": {}
        }
      ]
    },
    {
      "cell_type": "markdown",
      "source": [
        "* **Unemployment rate vs % Crime contribution**: Shows a slight positive correlation, meaning regions or groups with higher unemployment might have a higher crime contribution.\n",
        "* **Unemployment rate vs Poverty rate:** The relationship is stronger, indicating that areas with higher unemployment are more likely to have higher poverty rates.\n",
        "* **Unemployment rate vs Literacy rate**: Negative correlation, suggesting that as literacy increases, unemployment decreases.\n",
        "* **Poverty rate vs Literacy rate:** There’s a significant negative correlation, implying that higher literacy rates correspond with lower poverty levels.\n",
        "* **Poverty rate vs % Crime contribution**: Moderate positive correlation, which means regions with higher poverty tend to have a higher crime contribution.\n"
      ],
      "metadata": {
        "id": "JACUQVyO0HfN"
      }
    },
    {
      "cell_type": "markdown",
      "source": [
        "### Inferences\n",
        "* Literacy rate has a strong inverse relationship with both unemployment and poverty rates, indicating that improving literacy could have a substantial positive impact on reducing poverty and unemployment.\n",
        "* Poverty rate is significantly linked with crime and unemployment, meaning addressing poverty might also reduce crime rates and unemployment.\n",
        "* Unemployment rate and % crime contribution are positively correlated, indicating that as unemployment increases, crime might also rise, but the relationship is weaker compared to other factors."
      ],
      "metadata": {
        "id": "QAGQV4io0hAS"
      }
    },
    {
      "cell_type": "markdown",
      "source": [
        "## Checking for multicollineaity\n",
        "The linear regression might not perform well if the independent variables (Unemployment rate, Poverty rate, Literacy rate) are highly correlated with each other. To check multicollinearity, you could compute the Variance Inflation Factor (VIF)."
      ],
      "metadata": {
        "id": "JZEQHyXs25y7"
      }
    },
    {
      "cell_type": "code",
      "source": [
        "from sklearn.preprocessing import StandardScaler\n",
        "from sklearn.linear_model import Ridge\n",
        "import statsmodels.api as sm\n",
        "from statsmodels.stats.outliers_influence import variance_inflation_factor"
      ],
      "metadata": {
        "id": "8Hw-TgdE3ZCW"
      },
      "execution_count": null,
      "outputs": []
    },
    {
      "cell_type": "code",
      "metadata": {
        "id": "Y7qcHPnh7FUA"
      },
      "source": [
        "Y=factors_df['% Crime contribution']\n",
        "X=factors_df[['Unemployment rate','Poverty rate','Literacy rate']]\n",
        "X_train, X_test, Y_train, Y_test = train_test_split(X, Y, test_size=0.2, random_state= 0)"
      ],
      "execution_count": null,
      "outputs": []
    },
    {
      "cell_type": "code",
      "source": [
        "scaler = StandardScaler()\n",
        "X_train_scaled = scaler.fit_transform(X_train)\n",
        "X_test_scaled = scaler.transform(X_test)\n",
        "\n",
        "# Check for multicollinearity (VIF should be < 5)\n",
        "vif_data = pd.DataFrame()\n",
        "vif_data[\"VIF\"] = [variance_inflation_factor(X_train_scaled, i) for i in range(X_train_scaled.shape[1])]\n",
        "vif_data[\"Feature\"] = X.columns\n",
        "print(vif_data)"
      ],
      "metadata": {
        "colab": {
          "base_uri": "https://localhost:8080/"
        },
        "id": "d-0Io0Rz3dgW",
        "outputId": "3a6af647-6bfc-4511-8954-2c122d96275b"
      },
      "execution_count": null,
      "outputs": [
        {
          "output_type": "stream",
          "name": "stdout",
          "text": [
            "        VIF            Feature\n",
            "0  1.170531  Unemployment rate\n",
            "1  1.584722       Poverty rate\n",
            "2  1.773696      Literacy rate\n"
          ]
        }
      ]
    },
    {
      "cell_type": "markdown",
      "source": [
        "The Variance Inflation Factor (VIF) measures the level of multicollinearity between independent variables. A higher VIF value indicates that the variable is highly correlated with others, which can lead to instability in the coefficients of regression models.\n",
        "\n",
        "VIF values below 5 are generally acceptable and indicate that multicollinearity is not a serious issue.\n",
        "VIF values between 5-10 may suggest moderate multicollinearity.\n",
        "VIF values above 10 usually indicate high multicollinearity, which can distort model performance and lead to unreliable coefficient estimates."
      ],
      "metadata": {
        "id": "wvPTRExY4-MR"
      }
    },
    {
      "cell_type": "code",
      "metadata": {
        "id": "pC8qxaik7FtP"
      },
      "source": [
        "def calc_ISE(X_train, y_train, model):\n",
        "\n",
        "    predictions = model.predict(X_train)\n",
        "    mse = mean_squared_error(y_train, predictions)\n",
        "    rmse = np.sqrt(mse)\n",
        "    return model.score(X_train, y_train), rmse\n",
        "\n",
        "def calc_OSE(X_test, y_test, model):\n",
        "\n",
        "    predictions = model.predict(X_test)\n",
        "    mse = mean_squared_error(y_test, predictions)\n",
        "    rmse = np.sqrt(mse)\n",
        "    return model.score(X_test, y_test), rmse"
      ],
      "execution_count": null,
      "outputs": []
    },
    {
      "cell_type": "code",
      "source": [
        "model = Ridge()\n",
        "model.fit(X_train_scaled, Y_train)\n",
        "is_r2, ise = calc_ISE(X_train_scaled, Y_train, model)\n",
        "os_r2, ose = calc_OSE(X_test_scaled, Y_test, model)"
      ],
      "metadata": {
        "id": "yPNFKWV730JW"
      },
      "execution_count": null,
      "outputs": []
    },
    {
      "cell_type": "code",
      "source": [
        "data_list = (('R^2_in', is_r2), ('R^2_out', os_r2), ('ISE', ise), ('OSE', ose))\n",
        "for item in data_list:\n",
        "    print(f'{item[0]:10}: {item[1]}')"
      ],
      "metadata": {
        "colab": {
          "base_uri": "https://localhost:8080/"
        },
        "id": "hjpeQnML43BJ",
        "outputId": "49cf134d-ae13-4529-abf4-cab5c62a0981"
      },
      "execution_count": null,
      "outputs": [
        {
          "output_type": "stream",
          "name": "stdout",
          "text": [
            "R^2_in    : 0.2628933113116839\n",
            "R^2_out   : -0.052497452390580346\n",
            "ISE       : 2.7262971502533406\n",
            "OSE       : 3.4342372862006814\n"
          ]
        }
      ]
    },
    {
      "cell_type": "markdown",
      "source": [
        "## What do these results mean?\n",
        "* **R²_in (Training R²)**: The R² (coefficient of determination) for the training set is 0.26, meaning the model explains 26.29% of the variance in the target variable (% Crime contribution) on the training data. This indicates that the model captures some of the relationship between the features and the target, but it's not very strong.\n",
        "* **R²_out (Test R²)**: The R² on the test set is -0.05, which is worse than 0. A negative R² implies that the model is performing worse than a simple horizontal line (i.e., the mean of the target) on the test data. This suggests the model fails to generalize to unseen data.\n",
        "* **ISE (In-Sample RMSE)**: The Root Mean Squared Error (RMSE) on the training set is 2.73, representing the average error between the model's predictions and the actual values in the training data.\n",
        "* **OSE (Out-of-Sample RMSE)**: The RMSE on the test set is 3.43, indicating that on average, the model's predictions are off by around 3.43 units for the test data. The higher RMSE on the test set compared to the training set suggests that the model has overfitted the training data, leading to poor generalization."
      ],
      "metadata": {
        "id": "9ISmp_K96fSH"
      }
    },
    {
      "cell_type": "markdown",
      "source": [
        "### The model does not perfrom well\n",
        "* Low R²_in: The training R² value of 0.26 indicates that the model explains only a small fraction of the variance in the target variable. Ideally, you'd want a much higher value for a well-performing model.\n",
        "* Negative R²_out: A negative R² on the test set suggests that the model performs poorly on unseen data. It indicates that the model's predictions are worse than simply predicting the mean of the target variable.\n",
        "* Higher Test RMSE (OSE): The fact that the test set RMSE (3.43) is higher than the training set RMSE (2.73) shows that the model is overfitting the training data. Overfitting happens when the model captures noise in the training data that doesn't generalize well to new data.\n"
      ],
      "metadata": {
        "id": "QPelgOnp6w5h"
      }
    },
    {
      "cell_type": "markdown",
      "source": [
        "Possible reasons:\n",
        "1. The features we have selected might not be strong predictors of crime.\n",
        "2. Ridge regression might not be the best model for this data. We use Random forest to explain non-linear relationships."
      ],
      "metadata": {
        "id": "yWmGid4H6_rw"
      }
    },
    {
      "cell_type": "code",
      "source": [
        "from sklearn.linear_model import RidgeCV\n",
        "\n",
        "# Use cross-validation to find the best alpha\n",
        "ridge_cv_model = RidgeCV(alphas=[0.1, 1.0, 10.0], cv=5)\n",
        "ridge_cv_model.fit(X_train_scaled, Y_train)\n",
        "\n",
        "# Evaluate the best model\n",
        "is_r2, ise = calc_ISE(X_train_scaled, Y_train, ridge_cv_model)\n",
        "os_r2, ose = calc_OSE(X_test_scaled, Y_test, ridge_cv_model)\n",
        "\n",
        "print(f'Best Alpha: {ridge_cv_model.alpha_}')\n",
        "print(f'R^2_in: {is_r2}, R^2_out: {os_r2}')\n"
      ],
      "metadata": {
        "colab": {
          "base_uri": "https://localhost:8080/"
        },
        "id": "QUW3Jmav43S2",
        "outputId": "30238c6d-8117-47b8-aec6-d9ff18a46520"
      },
      "execution_count": null,
      "outputs": [
        {
          "output_type": "stream",
          "name": "stdout",
          "text": [
            "Best Alpha: 10.0\n",
            "R^2_in: 0.22025709091621304, R^2_out: 0.02856494832600398\n"
          ]
        }
      ]
    },
    {
      "cell_type": "code",
      "source": [
        "from sklearn.ensemble import RandomForestRegressor\n",
        "rf_model = RandomForestRegressor(n_estimators=100, random_state=0)\n",
        "rf_model.fit(X_train_scaled, Y_train)\n",
        "\n",
        "# Make predictions\n",
        "Y_train_pred = rf_model.predict(X_train_scaled)\n",
        "Y_test_pred = rf_model.predict(X_test_scaled)\n",
        "\n",
        "# Evaluate the model\n",
        "train_mse = mean_squared_error(Y_train, Y_train_pred)\n",
        "test_mse = mean_squared_error(Y_test, Y_test_pred)\n",
        "train_r2 = r2_score(Y_train, Y_train_pred)\n",
        "test_r2 = r2_score(Y_test, Y_test_pred)\n",
        "\n",
        "# Print results\n",
        "print(f\"Training MSE: {train_mse:.4f}, Training R^2: {train_r2:.4f}\")\n",
        "print(f\"Testing MSE: {test_mse:.4f}, Testing R^2: {test_r2:.4f}\")"
      ],
      "metadata": {
        "colab": {
          "base_uri": "https://localhost:8080/"
        },
        "id": "B-LU5UBM43Xd",
        "outputId": "7aafbd06-7992-4c37-ad10-cea764f8a53b"
      },
      "execution_count": null,
      "outputs": [
        {
          "output_type": "stream",
          "name": "stdout",
          "text": [
            "Training MSE: 1.9656, Training R^2: 0.8051\n",
            "Testing MSE: 15.9702, Testing R^2: -0.4252\n"
          ]
        }
      ]
    },
    {
      "cell_type": "markdown",
      "source": [
        "## Relationships Between Crime and each Independent Factor.\n"
      ],
      "metadata": {
        "id": "G-o4vgn9JLJg"
      }
    },
    {
      "cell_type": "code",
      "metadata": {
        "colab": {
          "base_uri": "https://localhost:8080/"
        },
        "id": "Buee_WxH7F7n",
        "outputId": "129000e2-9c38-4a60-91f8-2cfeec63ae0b"
      },
      "source": [
        "from sklearn.metrics import mean_squared_error\n",
        "\n",
        "model = linear_model.LinearRegression()\n",
        "model.fit(X_train, Y_train)\n",
        "is_r2, ise = calc_ISE(X_train, Y_train, model)\n",
        "os_r2, ose = calc_OSE(X_test, Y_test, model)\n",
        "# show dataset sizes\n",
        "data_list = (('R^2_in', is_r2), ('R^2_out', os_r2),\n",
        "             ('ISE', ise), ('OSE', ose))\n",
        "for item in data_list:\n",
        "    print('{:10}: {}'.format(item[0], item[1]))"
      ],
      "execution_count": null,
      "outputs": [
        {
          "output_type": "stream",
          "name": "stdout",
          "text": [
            "R^2_in    : 0.2642488982254946\n",
            "R^2_out   : -0.08472276527621658\n",
            "ISE       : 2.723789078128938\n",
            "OSE       : 3.4864155499445566\n"
          ]
        }
      ]
    },
    {
      "cell_type": "code",
      "metadata": {
        "colab": {
          "base_uri": "https://localhost:8080/"
        },
        "id": "xGW-PakL7GN9",
        "outputId": "e9564237-15bd-4cd6-a758-cff2c854ae46"
      },
      "source": [
        "from scipy.stats import linregress\n",
        "print(linregress(factors_df['% Crime contribution'], factors_df['Literacy rate']))\n",
        "print(linregress(factors_df['% Crime contribution'], factors_df['Unemployment rate']))\n",
        "print(linregress(factors_df['% Crime contribution'], factors_df['Poverty rate']))"
      ],
      "execution_count": null,
      "outputs": [
        {
          "output_type": "stream",
          "name": "stdout",
          "text": [
            "LinregressResult(slope=-0.9364065695316406, intercept=80.60503126643859, rvalue=-0.3578631644451704, pvalue=0.03479594447032603, stderr=0.4253361340422846)\n",
            "LinregressResult(slope=-0.3469648676662381, intercept=4.62736288055878, rvalue=-0.29377356512736125, pvalue=0.08673172711068965, stderr=0.19652460850961792)\n",
            "LinregressResult(slope=-0.0651638336482284, intercept=17.975437652324672, rvalue=-0.01912116704312578, pvalue=0.9131835638177148, stderr=0.593138143051468)\n"
          ]
        }
      ]
    },
    {
      "cell_type": "markdown",
      "source": [
        "The above results suggests that the three independent factors (Literacy Rate, Unemployment Rate, and Poverty Rate) have **limited explanatory power regarding the crime contribution**, especially when considering the overall model fit.   \n",
        "\n",
        "The significant effect of literacy rate warrants further investigation, but the lack of predictive power in the model overall indicates that either other factors may need to be included or that the existing factors do not fully capture the complexities of crime contribution in the dataset."
      ],
      "metadata": {
        "id": "3gLyf2TlJ67O"
      }
    },
    {
      "cell_type": "code",
      "metadata": {
        "colab": {
          "base_uri": "https://localhost:8080/"
        },
        "id": "BYVilsOACII2",
        "outputId": "03764185-3042-4515-9f72-05999de0e479"
      },
      "source": [
        "coeff_df = pd.DataFrame(model.coef_, X.columns, columns=['Coefficient'])\n",
        "print(coeff_df)"
      ],
      "execution_count": null,
      "outputs": [
        {
          "output_type": "stream",
          "name": "stdout",
          "text": [
            "                   Coefficient\n",
            "Unemployment rate    -0.082736\n",
            "Poverty rate         -0.112838\n",
            "Literacy rate        -0.215036\n"
          ]
        }
      ]
    },
    {
      "cell_type": "code",
      "metadata": {
        "colab": {
          "base_uri": "https://localhost:8080/"
        },
        "id": "g6NXCv7lCIjp",
        "outputId": "96588cf6-5dc4-419b-d451-209276bf3533"
      },
      "source": [
        "y_pred = model.predict(X_test)\n",
        "print(y_pred)"
      ],
      "execution_count": null,
      "outputs": [
        {
          "output_type": "stream",
          "name": "stdout",
          "text": [
            "[2.55661214 2.28906034 0.89828894 3.58666095 5.86065219 2.01931636\n",
            " 5.94481627]\n"
          ]
        }
      ]
    },
    {
      "cell_type": "code",
      "metadata": {
        "id": "IS0P1E2ZCIwH"
      },
      "source": [
        "import statsmodels.api as sm\n",
        "from statsmodels.sandbox.regression.predstd import wls_prediction_std"
      ],
      "execution_count": null,
      "outputs": []
    },
    {
      "cell_type": "code",
      "metadata": {
        "colab": {
          "base_uri": "https://localhost:8080/"
        },
        "id": "TpLnQ7EFCI6a",
        "outputId": "7c2cae9e-fc6b-4529-d2bb-4785f9da1ed3"
      },
      "source": [
        "model=sm.OLS(Y_train,X_train)\n",
        "result=model.fit()\n",
        "predictions=result.predict(X_test)\n",
        "#print(predictions,Y_test)\n",
        "print(result.summary())"
      ],
      "execution_count": null,
      "outputs": [
        {
          "output_type": "stream",
          "name": "stdout",
          "text": [
            "                                  OLS Regression Results                                 \n",
            "=========================================================================================\n",
            "Dep. Variable:     % Crime contribution   R-squared (uncentered):                   0.399\n",
            "Model:                              OLS   Adj. R-squared (uncentered):              0.327\n",
            "Method:                   Least Squares   F-statistic:                              5.542\n",
            "Date:                  Wed, 29 Sep 2021   Prob (F-statistic):                     0.00467\n",
            "Time:                          15:00:00   Log-Likelihood:                         -72.267\n",
            "No. Observations:                    28   AIC:                                      150.5\n",
            "Df Residuals:                        25   BIC:                                      154.5\n",
            "Df Model:                             3                                                  \n",
            "Covariance Type:              nonrobust                                                  \n",
            "=====================================================================================\n",
            "                        coef    std err          t      P>|t|      [0.025      0.975]\n",
            "-------------------------------------------------------------------------------------\n",
            "Unemployment rate    -0.1829      0.161     -1.138      0.266      -0.514       0.148\n",
            "Poverty rate          0.0171      0.052      0.327      0.746      -0.091       0.125\n",
            "Literacy rate         0.0368      0.017      2.165      0.040       0.002       0.072\n",
            "==============================================================================\n",
            "Omnibus:                        4.331   Durbin-Watson:                   2.229\n",
            "Prob(Omnibus):                  0.115   Jarque-Bera (JB):                3.642\n",
            "Skew:                           0.791   Prob(JB):                        0.162\n",
            "Kurtosis:                       2.215   Cond. No.                         20.4\n",
            "==============================================================================\n",
            "\n",
            "Warnings:\n",
            "[1] Standard Errors assume that the covariance matrix of the errors is correctly specified.\n"
          ]
        }
      ]
    },
    {
      "cell_type": "code",
      "metadata": {
        "colab": {
          "base_uri": "https://localhost:8080/",
          "height": 204
        },
        "id": "SCEP3xrrCJC7",
        "outputId": "c7b0985d-c233-4bb2-c3f7-78699ffd89ea"
      },
      "source": [
        "literature_df=pd.merge(factors_df, pd.read_csv(\"literature_India.csv\") , on='State/UT')\n",
        "literature_df.dropna(inplace=True)\n",
        "literature_df.head()"
      ],
      "execution_count": null,
      "outputs": [
        {
          "output_type": "execute_result",
          "data": {
            "text/plain": [
              "            State/UT  Literacy rate  Poverty rate  Unemployment rate  \\\n",
              "0     Andhra Pradesh          67.02          9.20                2.0   \n",
              "1  Arunachal Pradesh          65.38         34.67                2.2   \n",
              "2              Assam          72.19         31.98                4.6   \n",
              "3              Bihar          61.80         33.70                3.4   \n",
              "4       Chhattisgarh          70.28         35.93                1.4   \n",
              "\n",
              "   % Crime contribution   BPL  literacy rate      %male    %female     %urban  \\\n",
              "0                   8.2   5.8          67.02  50.179423  49.820577  33.363462   \n",
              "1                   0.1  20.3          65.38  51.593414  48.406586  22.652301   \n",
              "2                   2.9  20.5          72.19  51.078830  48.921170  14.064012   \n",
              "3                   5.8  31.2          61.80  52.140675  47.859325  11.267695   \n",
              "4                   2.5  24.8          70.28  50.236037  49.763963  23.239350   \n",
              "\n",
              "      %rural  \n",
              "0  66.636538  \n",
              "1  77.267048  \n",
              "2  85.819682  \n",
              "3  88.449100  \n",
              "4  76.741069  "
            ],
            "text/html": [
              "\n",
              "  <div id=\"df-5d6ec8ae-856e-4e50-9116-eea022843b16\" class=\"colab-df-container\">\n",
              "    <div>\n",
              "<style scoped>\n",
              "    .dataframe tbody tr th:only-of-type {\n",
              "        vertical-align: middle;\n",
              "    }\n",
              "\n",
              "    .dataframe tbody tr th {\n",
              "        vertical-align: top;\n",
              "    }\n",
              "\n",
              "    .dataframe thead th {\n",
              "        text-align: right;\n",
              "    }\n",
              "</style>\n",
              "<table border=\"1\" class=\"dataframe\">\n",
              "  <thead>\n",
              "    <tr style=\"text-align: right;\">\n",
              "      <th></th>\n",
              "      <th>State/UT</th>\n",
              "      <th>Literacy rate</th>\n",
              "      <th>Poverty rate</th>\n",
              "      <th>Unemployment rate</th>\n",
              "      <th>% Crime contribution</th>\n",
              "      <th>BPL</th>\n",
              "      <th>literacy rate</th>\n",
              "      <th>%male</th>\n",
              "      <th>%female</th>\n",
              "      <th>%urban</th>\n",
              "      <th>%rural</th>\n",
              "    </tr>\n",
              "  </thead>\n",
              "  <tbody>\n",
              "    <tr>\n",
              "      <th>0</th>\n",
              "      <td>Andhra Pradesh</td>\n",
              "      <td>67.02</td>\n",
              "      <td>9.20</td>\n",
              "      <td>2.0</td>\n",
              "      <td>8.2</td>\n",
              "      <td>5.8</td>\n",
              "      <td>67.02</td>\n",
              "      <td>50.179423</td>\n",
              "      <td>49.820577</td>\n",
              "      <td>33.363462</td>\n",
              "      <td>66.636538</td>\n",
              "    </tr>\n",
              "    <tr>\n",
              "      <th>1</th>\n",
              "      <td>Arunachal Pradesh</td>\n",
              "      <td>65.38</td>\n",
              "      <td>34.67</td>\n",
              "      <td>2.2</td>\n",
              "      <td>0.1</td>\n",
              "      <td>20.3</td>\n",
              "      <td>65.38</td>\n",
              "      <td>51.593414</td>\n",
              "      <td>48.406586</td>\n",
              "      <td>22.652301</td>\n",
              "      <td>77.267048</td>\n",
              "    </tr>\n",
              "    <tr>\n",
              "      <th>2</th>\n",
              "      <td>Assam</td>\n",
              "      <td>72.19</td>\n",
              "      <td>31.98</td>\n",
              "      <td>4.6</td>\n",
              "      <td>2.9</td>\n",
              "      <td>20.5</td>\n",
              "      <td>72.19</td>\n",
              "      <td>51.078830</td>\n",
              "      <td>48.921170</td>\n",
              "      <td>14.064012</td>\n",
              "      <td>85.819682</td>\n",
              "    </tr>\n",
              "    <tr>\n",
              "      <th>3</th>\n",
              "      <td>Bihar</td>\n",
              "      <td>61.80</td>\n",
              "      <td>33.70</td>\n",
              "      <td>3.4</td>\n",
              "      <td>5.8</td>\n",
              "      <td>31.2</td>\n",
              "      <td>61.80</td>\n",
              "      <td>52.140675</td>\n",
              "      <td>47.859325</td>\n",
              "      <td>11.267695</td>\n",
              "      <td>88.449100</td>\n",
              "    </tr>\n",
              "    <tr>\n",
              "      <th>4</th>\n",
              "      <td>Chhattisgarh</td>\n",
              "      <td>70.28</td>\n",
              "      <td>35.93</td>\n",
              "      <td>1.4</td>\n",
              "      <td>2.5</td>\n",
              "      <td>24.8</td>\n",
              "      <td>70.28</td>\n",
              "      <td>50.236037</td>\n",
              "      <td>49.763963</td>\n",
              "      <td>23.239350</td>\n",
              "      <td>76.741069</td>\n",
              "    </tr>\n",
              "  </tbody>\n",
              "</table>\n",
              "</div>\n",
              "    <div class=\"colab-df-buttons\">\n",
              "\n",
              "  <div class=\"colab-df-container\">\n",
              "    <button class=\"colab-df-convert\" onclick=\"convertToInteractive('df-5d6ec8ae-856e-4e50-9116-eea022843b16')\"\n",
              "            title=\"Convert this dataframe to an interactive table.\"\n",
              "            style=\"display:none;\">\n",
              "\n",
              "  <svg xmlns=\"http://www.w3.org/2000/svg\" height=\"24px\" viewBox=\"0 -960 960 960\">\n",
              "    <path d=\"M120-120v-720h720v720H120Zm60-500h600v-160H180v160Zm220 220h160v-160H400v160Zm0 220h160v-160H400v160ZM180-400h160v-160H180v160Zm440 0h160v-160H620v160ZM180-180h160v-160H180v160Zm440 0h160v-160H620v160Z\"/>\n",
              "  </svg>\n",
              "    </button>\n",
              "\n",
              "  <style>\n",
              "    .colab-df-container {\n",
              "      display:flex;\n",
              "      gap: 12px;\n",
              "    }\n",
              "\n",
              "    .colab-df-convert {\n",
              "      background-color: #E8F0FE;\n",
              "      border: none;\n",
              "      border-radius: 50%;\n",
              "      cursor: pointer;\n",
              "      display: none;\n",
              "      fill: #1967D2;\n",
              "      height: 32px;\n",
              "      padding: 0 0 0 0;\n",
              "      width: 32px;\n",
              "    }\n",
              "\n",
              "    .colab-df-convert:hover {\n",
              "      background-color: #E2EBFA;\n",
              "      box-shadow: 0px 1px 2px rgba(60, 64, 67, 0.3), 0px 1px 3px 1px rgba(60, 64, 67, 0.15);\n",
              "      fill: #174EA6;\n",
              "    }\n",
              "\n",
              "    .colab-df-buttons div {\n",
              "      margin-bottom: 4px;\n",
              "    }\n",
              "\n",
              "    [theme=dark] .colab-df-convert {\n",
              "      background-color: #3B4455;\n",
              "      fill: #D2E3FC;\n",
              "    }\n",
              "\n",
              "    [theme=dark] .colab-df-convert:hover {\n",
              "      background-color: #434B5C;\n",
              "      box-shadow: 0px 1px 3px 1px rgba(0, 0, 0, 0.15);\n",
              "      filter: drop-shadow(0px 1px 2px rgba(0, 0, 0, 0.3));\n",
              "      fill: #FFFFFF;\n",
              "    }\n",
              "  </style>\n",
              "\n",
              "    <script>\n",
              "      const buttonEl =\n",
              "        document.querySelector('#df-5d6ec8ae-856e-4e50-9116-eea022843b16 button.colab-df-convert');\n",
              "      buttonEl.style.display =\n",
              "        google.colab.kernel.accessAllowed ? 'block' : 'none';\n",
              "\n",
              "      async function convertToInteractive(key) {\n",
              "        const element = document.querySelector('#df-5d6ec8ae-856e-4e50-9116-eea022843b16');\n",
              "        const dataTable =\n",
              "          await google.colab.kernel.invokeFunction('convertToInteractive',\n",
              "                                                    [key], {});\n",
              "        if (!dataTable) return;\n",
              "\n",
              "        const docLinkHtml = 'Like what you see? Visit the ' +\n",
              "          '<a target=\"_blank\" href=https://colab.research.google.com/notebooks/data_table.ipynb>data table notebook</a>'\n",
              "          + ' to learn more about interactive tables.';\n",
              "        element.innerHTML = '';\n",
              "        dataTable['output_type'] = 'display_data';\n",
              "        await google.colab.output.renderOutput(dataTable, element);\n",
              "        const docLink = document.createElement('div');\n",
              "        docLink.innerHTML = docLinkHtml;\n",
              "        element.appendChild(docLink);\n",
              "      }\n",
              "    </script>\n",
              "  </div>\n",
              "\n",
              "\n",
              "<div id=\"df-b069168d-ec49-4e4c-a02e-805525e4dc9c\">\n",
              "  <button class=\"colab-df-quickchart\" onclick=\"quickchart('df-b069168d-ec49-4e4c-a02e-805525e4dc9c')\"\n",
              "            title=\"Suggest charts\"\n",
              "            style=\"display:none;\">\n",
              "\n",
              "<svg xmlns=\"http://www.w3.org/2000/svg\" height=\"24px\"viewBox=\"0 0 24 24\"\n",
              "     width=\"24px\">\n",
              "    <g>\n",
              "        <path d=\"M19 3H5c-1.1 0-2 .9-2 2v14c0 1.1.9 2 2 2h14c1.1 0 2-.9 2-2V5c0-1.1-.9-2-2-2zM9 17H7v-7h2v7zm4 0h-2V7h2v10zm4 0h-2v-4h2v4z\"/>\n",
              "    </g>\n",
              "</svg>\n",
              "  </button>\n",
              "\n",
              "<style>\n",
              "  .colab-df-quickchart {\n",
              "      --bg-color: #E8F0FE;\n",
              "      --fill-color: #1967D2;\n",
              "      --hover-bg-color: #E2EBFA;\n",
              "      --hover-fill-color: #174EA6;\n",
              "      --disabled-fill-color: #AAA;\n",
              "      --disabled-bg-color: #DDD;\n",
              "  }\n",
              "\n",
              "  [theme=dark] .colab-df-quickchart {\n",
              "      --bg-color: #3B4455;\n",
              "      --fill-color: #D2E3FC;\n",
              "      --hover-bg-color: #434B5C;\n",
              "      --hover-fill-color: #FFFFFF;\n",
              "      --disabled-bg-color: #3B4455;\n",
              "      --disabled-fill-color: #666;\n",
              "  }\n",
              "\n",
              "  .colab-df-quickchart {\n",
              "    background-color: var(--bg-color);\n",
              "    border: none;\n",
              "    border-radius: 50%;\n",
              "    cursor: pointer;\n",
              "    display: none;\n",
              "    fill: var(--fill-color);\n",
              "    height: 32px;\n",
              "    padding: 0;\n",
              "    width: 32px;\n",
              "  }\n",
              "\n",
              "  .colab-df-quickchart:hover {\n",
              "    background-color: var(--hover-bg-color);\n",
              "    box-shadow: 0 1px 2px rgba(60, 64, 67, 0.3), 0 1px 3px 1px rgba(60, 64, 67, 0.15);\n",
              "    fill: var(--button-hover-fill-color);\n",
              "  }\n",
              "\n",
              "  .colab-df-quickchart-complete:disabled,\n",
              "  .colab-df-quickchart-complete:disabled:hover {\n",
              "    background-color: var(--disabled-bg-color);\n",
              "    fill: var(--disabled-fill-color);\n",
              "    box-shadow: none;\n",
              "  }\n",
              "\n",
              "  .colab-df-spinner {\n",
              "    border: 2px solid var(--fill-color);\n",
              "    border-color: transparent;\n",
              "    border-bottom-color: var(--fill-color);\n",
              "    animation:\n",
              "      spin 1s steps(1) infinite;\n",
              "  }\n",
              "\n",
              "  @keyframes spin {\n",
              "    0% {\n",
              "      border-color: transparent;\n",
              "      border-bottom-color: var(--fill-color);\n",
              "      border-left-color: var(--fill-color);\n",
              "    }\n",
              "    20% {\n",
              "      border-color: transparent;\n",
              "      border-left-color: var(--fill-color);\n",
              "      border-top-color: var(--fill-color);\n",
              "    }\n",
              "    30% {\n",
              "      border-color: transparent;\n",
              "      border-left-color: var(--fill-color);\n",
              "      border-top-color: var(--fill-color);\n",
              "      border-right-color: var(--fill-color);\n",
              "    }\n",
              "    40% {\n",
              "      border-color: transparent;\n",
              "      border-right-color: var(--fill-color);\n",
              "      border-top-color: var(--fill-color);\n",
              "    }\n",
              "    60% {\n",
              "      border-color: transparent;\n",
              "      border-right-color: var(--fill-color);\n",
              "    }\n",
              "    80% {\n",
              "      border-color: transparent;\n",
              "      border-right-color: var(--fill-color);\n",
              "      border-bottom-color: var(--fill-color);\n",
              "    }\n",
              "    90% {\n",
              "      border-color: transparent;\n",
              "      border-bottom-color: var(--fill-color);\n",
              "    }\n",
              "  }\n",
              "</style>\n",
              "\n",
              "  <script>\n",
              "    async function quickchart(key) {\n",
              "      const quickchartButtonEl =\n",
              "        document.querySelector('#' + key + ' button');\n",
              "      quickchartButtonEl.disabled = true;  // To prevent multiple clicks.\n",
              "      quickchartButtonEl.classList.add('colab-df-spinner');\n",
              "      try {\n",
              "        const charts = await google.colab.kernel.invokeFunction(\n",
              "            'suggestCharts', [key], {});\n",
              "      } catch (error) {\n",
              "        console.error('Error during call to suggestCharts:', error);\n",
              "      }\n",
              "      quickchartButtonEl.classList.remove('colab-df-spinner');\n",
              "      quickchartButtonEl.classList.add('colab-df-quickchart-complete');\n",
              "    }\n",
              "    (() => {\n",
              "      let quickchartButtonEl =\n",
              "        document.querySelector('#df-b069168d-ec49-4e4c-a02e-805525e4dc9c button');\n",
              "      quickchartButtonEl.style.display =\n",
              "        google.colab.kernel.accessAllowed ? 'block' : 'none';\n",
              "    })();\n",
              "  </script>\n",
              "</div>\n",
              "\n",
              "    </div>\n",
              "  </div>\n"
            ],
            "application/vnd.google.colaboratory.intrinsic+json": {
              "type": "dataframe",
              "variable_name": "literature_df",
              "summary": "{\n  \"name\": \"literature_df\",\n  \"rows\": 35,\n  \"fields\": [\n    {\n      \"column\": \"State/UT\",\n      \"properties\": {\n        \"dtype\": \"string\",\n        \"num_unique_values\": 35,\n        \"samples\": [\n          \"Uttarakhand\",\n          \"Kerala\",\n          \"Tamil Nadu\"\n        ],\n        \"semantic_type\": \"\",\n        \"description\": \"\"\n      }\n    },\n    {\n      \"column\": \"Literacy rate\",\n      \"properties\": {\n        \"dtype\": \"number\",\n        \"std\": 8.598837296817685,\n        \"min\": 61.8,\n        \"max\": 94.0,\n        \"num_unique_values\": 35,\n        \"samples\": [\n          79.63,\n          94.0,\n          80.09\n        ],\n        \"semantic_type\": \"\",\n        \"description\": \"\"\n      }\n    },\n    {\n      \"column\": \"Poverty rate\",\n      \"properties\": {\n        \"dtype\": \"number\",\n        \"std\": 11.199135733460443,\n        \"min\": 1.0,\n        \"max\": 39.31,\n        \"num_unique_values\": 35,\n        \"samples\": [\n          29.43,\n          1.05,\n          11.28\n        ],\n        \"semantic_type\": \"\",\n        \"description\": \"\"\n      }\n    },\n    {\n      \"column\": \"Unemployment rate\",\n      \"properties\": {\n        \"dtype\": \"number\",\n        \"std\": 3.8811914483600947,\n        \"min\": 0.0,\n        \"max\": 17.7,\n        \"num_unique_values\": 30,\n        \"samples\": [\n          0.1,\n          0.8,\n          3.3\n        ],\n        \"semantic_type\": \"\",\n        \"description\": \"\"\n      }\n    },\n    {\n      \"column\": \"% Crime contribution\",\n      \"properties\": {\n        \"dtype\": \"number\",\n        \"std\": 3.286187032121579,\n        \"min\": 0.0,\n        \"max\": 9.3,\n        \"num_unique_values\": 22,\n        \"samples\": [\n          8.2,\n          9.3,\n          0.6\n        ],\n        \"semantic_type\": \"\",\n        \"description\": \"\"\n      }\n    },\n    {\n      \"column\": \"BPL\",\n      \"properties\": {\n        \"dtype\": \"number\",\n        \"std\": 8.340656726052737,\n        \"min\": 0.0,\n        \"max\": 32.6,\n        \"num_unique_values\": 34,\n        \"samples\": [\n          32.6,\n          17.3,\n          14.7\n        ],\n        \"semantic_type\": \"\",\n        \"description\": \"\"\n      }\n    },\n    {\n      \"column\": \"literacy rate\",\n      \"properties\": {\n        \"dtype\": \"number\",\n        \"std\": 8.598837296817685,\n        \"min\": 61.8,\n        \"max\": 94.0,\n        \"num_unique_values\": 35,\n        \"samples\": [\n          79.63,\n          94.0,\n          80.09\n        ],\n        \"semantic_type\": \"\",\n        \"description\": \"\"\n      }\n    },\n    {\n      \"column\": \"%male\",\n      \"properties\": {\n        \"dtype\": \"number\",\n        \"std\": 2.4333251119082773,\n        \"min\": 47.4021550792944,\n        \"max\": 61.7894568072782,\n        \"num_unique_values\": 35,\n        \"samples\": [\n          52.2893178054503,\n          50.6858277487382,\n          52.9122453023943\n        ],\n        \"semantic_type\": \"\",\n        \"description\": \"\"\n      }\n    },\n    {\n      \"column\": \"%female\",\n      \"properties\": {\n        \"dtype\": \"number\",\n        \"std\": 2.3270783494452862,\n        \"min\": 38.2105431927218,\n        \"max\": 52.0224428734654,\n        \"num_unique_values\": 35,\n        \"samples\": [\n          47.7106821945497,\n          49.3141722512618,\n          47.0877546976057\n        ],\n        \"semantic_type\": \"\",\n        \"description\": \"\"\n      }\n    },\n    {\n      \"column\": \"%urban\",\n      \"properties\": {\n        \"dtype\": \"number\",\n        \"std\": 20.816946993510925,\n        \"min\": 10.0326865272014,\n        \"max\": 97.1795916433749,\n        \"num_unique_values\": 35,\n        \"samples\": [\n          22.2561102970111,\n          38.5924549969861,\n          24.8496094677657\n        ],\n        \"semantic_type\": \"\",\n        \"description\": \"\"\n      }\n    },\n    {\n      \"column\": \"%rural\",\n      \"properties\": {\n        \"dtype\": \"number\",\n        \"std\": 21.96319652792172,\n        \"min\": 2.74802217063812,\n        \"max\": 89.8494188009735,\n        \"num_unique_values\": 35,\n        \"samples\": [\n          77.6283492919989,\n          61.4654987273407,\n          74.6772315367267\n        ],\n        \"semantic_type\": \"\",\n        \"description\": \"\"\n      }\n    }\n  ]\n}"
            }
          },
          "metadata": {},
          "execution_count": 54
        }
      ]
    },
    {
      "cell_type": "code",
      "metadata": {
        "colab": {
          "base_uri": "https://localhost:8080/",
          "height": 542
        },
        "id": "HAgHOAPdCJK_",
        "outputId": "87db744f-d080-4a76-a7e4-e3a74e745e47"
      },
      "source": [
        "import plotly.graph_objects as go\n",
        "\n",
        "# Add data\n",
        "state= literature_df[\"State/UT\"]\n",
        "\n",
        "fig = go.Figure()\n",
        "# Create and style traces\n",
        "fig.add_trace(go.Scatter(x=state, y=literature_df[\"%male\"], name='Male',\n",
        "                         line=dict(color='firebrick', width=4)))\n",
        "fig.add_trace(go.Scatter(x=state, y=literature_df[\"%female\"], name = 'Female',\n",
        "                         line=dict(color='royalblue', width=4)))\n",
        "\n",
        "fig.add_trace(go.Scatter(x=state, y=literature_df[\"Literacy rate\"], name='Literacy rate',\n",
        "                         line = dict(color='green', width=4,)))\n",
        "\n",
        "# Edit the layout\n",
        "fig.update_layout(title='Literacy rate and gender',\n",
        "                   xaxis_title='States',\n",
        "                   yaxis_title='Rates')\n",
        "fig.show()"
      ],
      "execution_count": null,
      "outputs": [
        {
          "output_type": "display_data",
          "data": {
            "text/html": [
              "<html>\n",
              "<head><meta charset=\"utf-8\" /></head>\n",
              "<body>\n",
              "    <div>            <script src=\"https://cdnjs.cloudflare.com/ajax/libs/mathjax/2.7.5/MathJax.js?config=TeX-AMS-MML_SVG\"></script><script type=\"text/javascript\">if (window.MathJax && window.MathJax.Hub && window.MathJax.Hub.Config) {window.MathJax.Hub.Config({SVG: {font: \"STIX-Web\"}});}</script>                <script type=\"text/javascript\">window.PlotlyConfig = {MathJaxConfig: 'local'};</script>\n",
              "        <script charset=\"utf-8\" src=\"https://cdn.plot.ly/plotly-2.35.2.min.js\"></script>                <div id=\"bbcbf6f9-04a3-49ca-b3f3-1d5dc16d1a2f\" class=\"plotly-graph-div\" style=\"height:525px; width:100%;\"></div>            <script type=\"text/javascript\">                                    window.PLOTLYENV=window.PLOTLYENV || {};                                    if (document.getElementById(\"bbcbf6f9-04a3-49ca-b3f3-1d5dc16d1a2f\")) {                    Plotly.newPlot(                        \"bbcbf6f9-04a3-49ca-b3f3-1d5dc16d1a2f\",                        [{\"line\":{\"color\":\"firebrick\",\"width\":4},\"name\":\"Male\",\"x\":[\"Andhra Pradesh\",\"Arunachal Pradesh\",\"Assam\",\"Bihar\",\"Chhattisgarh\",\"Delhi\",\"Goa\",\"Gujarat\",\"Haryana\",\"Himachal Pradesh\",\"Jammu & Kashmir\",\"Jharkhand\",\"Karnataka\",\"Kerala\",\"Madhya Pradesh\",\"Maharashtra\",\"Manipur\",\"Meghalaya\",\"Mizoram\",\"Nagaland\",\"Odisha\",\"Punjab\",\"Rajasthan\",\"Sikkim\",\"Tamil Nadu\",\"Tripura\",\"Uttarakhand\",\"Uttar Pradesh\",\"West Bengal\",\"A & N Islands\",\"Chandigarh\",\"Dadra & Nagar Haveli\",\"Daman & Diu\",\"Lakshadweep\",\"Puducherry\"],\"y\":[50.1794231566352,51.5934140188057,51.078829629679,52.1406750536977,50.2360365341463,52.9387493082088,50.6765303778766,52.1036076755653,53.2305947483423,50.7221394627103,51.5110611797072,52.9503396058878,51.3224391534241,50.6858277487382,51.3749941836118,51.7884600988046,51.8295009590847,47.4021550792944,50.2827035322184,50.6139230007856,51.7891313731298,49.0812554639478,52.7674968311311,51.8625931616792,52.9122453023943,50.0893453271742,52.2893178054503,51.0184634002347,50.9381743062763,53.305603800505,55.01568051542,56.373269248114,61.7894568072782,47.9775571265346,50.536107664948],\"type\":\"scatter\"},{\"line\":{\"color\":\"royalblue\",\"width\":4},\"name\":\"Female\",\"x\":[\"Andhra Pradesh\",\"Arunachal Pradesh\",\"Assam\",\"Bihar\",\"Chhattisgarh\",\"Delhi\",\"Goa\",\"Gujarat\",\"Haryana\",\"Himachal Pradesh\",\"Jammu & Kashmir\",\"Jharkhand\",\"Karnataka\",\"Kerala\",\"Madhya Pradesh\",\"Maharashtra\",\"Manipur\",\"Meghalaya\",\"Mizoram\",\"Nagaland\",\"Odisha\",\"Punjab\",\"Rajasthan\",\"Sikkim\",\"Tamil Nadu\",\"Tripura\",\"Uttarakhand\",\"Uttar Pradesh\",\"West Bengal\",\"A & N Islands\",\"Chandigarh\",\"Dadra & Nagar Haveli\",\"Daman & Diu\",\"Lakshadweep\",\"Puducherry\"],\"y\":[49.8205768433648,48.4065859811943,48.921170370321,47.8593249463023,49.7639634658537,46.4655850291587,49.3234696221234,47.8963923244347,46.7694052516577,49.2778605372897,48.434303458291,47.0496603941122,48.6775608465759,49.3141722512618,48.6250058163883,48.2115399011954,48.1704990409153,47.0365087833002,49.7172964677816,49.3860769992144,48.2108686268702,50.9187445360522,47.2325031688689,48.1374068383208,47.0877546976057,49.9106546728258,47.7106821945497,48.9815365997653,49.0618256937237,46.694396199495,44.98431948458,43.6267307518861,38.2105431927218,52.0224428734654,49.463892335052],\"type\":\"scatter\"},{\"line\":{\"color\":\"green\",\"width\":4},\"name\":\"Literacy rate\",\"x\":[\"Andhra Pradesh\",\"Arunachal Pradesh\",\"Assam\",\"Bihar\",\"Chhattisgarh\",\"Delhi\",\"Goa\",\"Gujarat\",\"Haryana\",\"Himachal Pradesh\",\"Jammu & Kashmir\",\"Jharkhand\",\"Karnataka\",\"Kerala\",\"Madhya Pradesh\",\"Maharashtra\",\"Manipur\",\"Meghalaya\",\"Mizoram\",\"Nagaland\",\"Odisha\",\"Punjab\",\"Rajasthan\",\"Sikkim\",\"Tamil Nadu\",\"Tripura\",\"Uttarakhand\",\"Uttar Pradesh\",\"West Bengal\",\"A & N Islands\",\"Chandigarh\",\"Dadra & Nagar Haveli\",\"Daman & Diu\",\"Lakshadweep\",\"Puducherry\"],\"y\":[67.02,65.38,72.19,61.8,70.28,86.21,88.7,78.03,75.55,82.8,67.16,66.41,75.36,94.0,69.32,82.34,79.21,74.43,91.33,79.55,72.87,75.84,66.11,81.42,80.09,87.22,79.63,67.68,76.26,86.63,86.05,76.24,87.1,91.85,85.85],\"type\":\"scatter\"}],                        {\"template\":{\"data\":{\"histogram2dcontour\":[{\"type\":\"histogram2dcontour\",\"colorbar\":{\"outlinewidth\":0,\"ticks\":\"\"},\"colorscale\":[[0.0,\"#0d0887\"],[0.1111111111111111,\"#46039f\"],[0.2222222222222222,\"#7201a8\"],[0.3333333333333333,\"#9c179e\"],[0.4444444444444444,\"#bd3786\"],[0.5555555555555556,\"#d8576b\"],[0.6666666666666666,\"#ed7953\"],[0.7777777777777778,\"#fb9f3a\"],[0.8888888888888888,\"#fdca26\"],[1.0,\"#f0f921\"]]}],\"choropleth\":[{\"type\":\"choropleth\",\"colorbar\":{\"outlinewidth\":0,\"ticks\":\"\"}}],\"histogram2d\":[{\"type\":\"histogram2d\",\"colorbar\":{\"outlinewidth\":0,\"ticks\":\"\"},\"colorscale\":[[0.0,\"#0d0887\"],[0.1111111111111111,\"#46039f\"],[0.2222222222222222,\"#7201a8\"],[0.3333333333333333,\"#9c179e\"],[0.4444444444444444,\"#bd3786\"],[0.5555555555555556,\"#d8576b\"],[0.6666666666666666,\"#ed7953\"],[0.7777777777777778,\"#fb9f3a\"],[0.8888888888888888,\"#fdca26\"],[1.0,\"#f0f921\"]]}],\"heatmap\":[{\"type\":\"heatmap\",\"colorbar\":{\"outlinewidth\":0,\"ticks\":\"\"},\"colorscale\":[[0.0,\"#0d0887\"],[0.1111111111111111,\"#46039f\"],[0.2222222222222222,\"#7201a8\"],[0.3333333333333333,\"#9c179e\"],[0.4444444444444444,\"#bd3786\"],[0.5555555555555556,\"#d8576b\"],[0.6666666666666666,\"#ed7953\"],[0.7777777777777778,\"#fb9f3a\"],[0.8888888888888888,\"#fdca26\"],[1.0,\"#f0f921\"]]}],\"heatmapgl\":[{\"type\":\"heatmapgl\",\"colorbar\":{\"outlinewidth\":0,\"ticks\":\"\"},\"colorscale\":[[0.0,\"#0d0887\"],[0.1111111111111111,\"#46039f\"],[0.2222222222222222,\"#7201a8\"],[0.3333333333333333,\"#9c179e\"],[0.4444444444444444,\"#bd3786\"],[0.5555555555555556,\"#d8576b\"],[0.6666666666666666,\"#ed7953\"],[0.7777777777777778,\"#fb9f3a\"],[0.8888888888888888,\"#fdca26\"],[1.0,\"#f0f921\"]]}],\"contourcarpet\":[{\"type\":\"contourcarpet\",\"colorbar\":{\"outlinewidth\":0,\"ticks\":\"\"}}],\"contour\":[{\"type\":\"contour\",\"colorbar\":{\"outlinewidth\":0,\"ticks\":\"\"},\"colorscale\":[[0.0,\"#0d0887\"],[0.1111111111111111,\"#46039f\"],[0.2222222222222222,\"#7201a8\"],[0.3333333333333333,\"#9c179e\"],[0.4444444444444444,\"#bd3786\"],[0.5555555555555556,\"#d8576b\"],[0.6666666666666666,\"#ed7953\"],[0.7777777777777778,\"#fb9f3a\"],[0.8888888888888888,\"#fdca26\"],[1.0,\"#f0f921\"]]}],\"surface\":[{\"type\":\"surface\",\"colorbar\":{\"outlinewidth\":0,\"ticks\":\"\"},\"colorscale\":[[0.0,\"#0d0887\"],[0.1111111111111111,\"#46039f\"],[0.2222222222222222,\"#7201a8\"],[0.3333333333333333,\"#9c179e\"],[0.4444444444444444,\"#bd3786\"],[0.5555555555555556,\"#d8576b\"],[0.6666666666666666,\"#ed7953\"],[0.7777777777777778,\"#fb9f3a\"],[0.8888888888888888,\"#fdca26\"],[1.0,\"#f0f921\"]]}],\"mesh3d\":[{\"type\":\"mesh3d\",\"colorbar\":{\"outlinewidth\":0,\"ticks\":\"\"}}],\"scatter\":[{\"fillpattern\":{\"fillmode\":\"overlay\",\"size\":10,\"solidity\":0.2},\"type\":\"scatter\"}],\"parcoords\":[{\"type\":\"parcoords\",\"line\":{\"colorbar\":{\"outlinewidth\":0,\"ticks\":\"\"}}}],\"scatterpolargl\":[{\"type\":\"scatterpolargl\",\"marker\":{\"colorbar\":{\"outlinewidth\":0,\"ticks\":\"\"}}}],\"bar\":[{\"error_x\":{\"color\":\"#2a3f5f\"},\"error_y\":{\"color\":\"#2a3f5f\"},\"marker\":{\"line\":{\"color\":\"#E5ECF6\",\"width\":0.5},\"pattern\":{\"fillmode\":\"overlay\",\"size\":10,\"solidity\":0.2}},\"type\":\"bar\"}],\"scattergeo\":[{\"type\":\"scattergeo\",\"marker\":{\"colorbar\":{\"outlinewidth\":0,\"ticks\":\"\"}}}],\"scatterpolar\":[{\"type\":\"scatterpolar\",\"marker\":{\"colorbar\":{\"outlinewidth\":0,\"ticks\":\"\"}}}],\"histogram\":[{\"marker\":{\"pattern\":{\"fillmode\":\"overlay\",\"size\":10,\"solidity\":0.2}},\"type\":\"histogram\"}],\"scattergl\":[{\"type\":\"scattergl\",\"marker\":{\"colorbar\":{\"outlinewidth\":0,\"ticks\":\"\"}}}],\"scatter3d\":[{\"type\":\"scatter3d\",\"line\":{\"colorbar\":{\"outlinewidth\":0,\"ticks\":\"\"}},\"marker\":{\"colorbar\":{\"outlinewidth\":0,\"ticks\":\"\"}}}],\"scattermapbox\":[{\"type\":\"scattermapbox\",\"marker\":{\"colorbar\":{\"outlinewidth\":0,\"ticks\":\"\"}}}],\"scatterternary\":[{\"type\":\"scatterternary\",\"marker\":{\"colorbar\":{\"outlinewidth\":0,\"ticks\":\"\"}}}],\"scattercarpet\":[{\"type\":\"scattercarpet\",\"marker\":{\"colorbar\":{\"outlinewidth\":0,\"ticks\":\"\"}}}],\"carpet\":[{\"aaxis\":{\"endlinecolor\":\"#2a3f5f\",\"gridcolor\":\"white\",\"linecolor\":\"white\",\"minorgridcolor\":\"white\",\"startlinecolor\":\"#2a3f5f\"},\"baxis\":{\"endlinecolor\":\"#2a3f5f\",\"gridcolor\":\"white\",\"linecolor\":\"white\",\"minorgridcolor\":\"white\",\"startlinecolor\":\"#2a3f5f\"},\"type\":\"carpet\"}],\"table\":[{\"cells\":{\"fill\":{\"color\":\"#EBF0F8\"},\"line\":{\"color\":\"white\"}},\"header\":{\"fill\":{\"color\":\"#C8D4E3\"},\"line\":{\"color\":\"white\"}},\"type\":\"table\"}],\"barpolar\":[{\"marker\":{\"line\":{\"color\":\"#E5ECF6\",\"width\":0.5},\"pattern\":{\"fillmode\":\"overlay\",\"size\":10,\"solidity\":0.2}},\"type\":\"barpolar\"}],\"pie\":[{\"automargin\":true,\"type\":\"pie\"}]},\"layout\":{\"autotypenumbers\":\"strict\",\"colorway\":[\"#636efa\",\"#EF553B\",\"#00cc96\",\"#ab63fa\",\"#FFA15A\",\"#19d3f3\",\"#FF6692\",\"#B6E880\",\"#FF97FF\",\"#FECB52\"],\"font\":{\"color\":\"#2a3f5f\"},\"hovermode\":\"closest\",\"hoverlabel\":{\"align\":\"left\"},\"paper_bgcolor\":\"white\",\"plot_bgcolor\":\"#E5ECF6\",\"polar\":{\"bgcolor\":\"#E5ECF6\",\"angularaxis\":{\"gridcolor\":\"white\",\"linecolor\":\"white\",\"ticks\":\"\"},\"radialaxis\":{\"gridcolor\":\"white\",\"linecolor\":\"white\",\"ticks\":\"\"}},\"ternary\":{\"bgcolor\":\"#E5ECF6\",\"aaxis\":{\"gridcolor\":\"white\",\"linecolor\":\"white\",\"ticks\":\"\"},\"baxis\":{\"gridcolor\":\"white\",\"linecolor\":\"white\",\"ticks\":\"\"},\"caxis\":{\"gridcolor\":\"white\",\"linecolor\":\"white\",\"ticks\":\"\"}},\"coloraxis\":{\"colorbar\":{\"outlinewidth\":0,\"ticks\":\"\"}},\"colorscale\":{\"sequential\":[[0.0,\"#0d0887\"],[0.1111111111111111,\"#46039f\"],[0.2222222222222222,\"#7201a8\"],[0.3333333333333333,\"#9c179e\"],[0.4444444444444444,\"#bd3786\"],[0.5555555555555556,\"#d8576b\"],[0.6666666666666666,\"#ed7953\"],[0.7777777777777778,\"#fb9f3a\"],[0.8888888888888888,\"#fdca26\"],[1.0,\"#f0f921\"]],\"sequentialminus\":[[0.0,\"#0d0887\"],[0.1111111111111111,\"#46039f\"],[0.2222222222222222,\"#7201a8\"],[0.3333333333333333,\"#9c179e\"],[0.4444444444444444,\"#bd3786\"],[0.5555555555555556,\"#d8576b\"],[0.6666666666666666,\"#ed7953\"],[0.7777777777777778,\"#fb9f3a\"],[0.8888888888888888,\"#fdca26\"],[1.0,\"#f0f921\"]],\"diverging\":[[0,\"#8e0152\"],[0.1,\"#c51b7d\"],[0.2,\"#de77ae\"],[0.3,\"#f1b6da\"],[0.4,\"#fde0ef\"],[0.5,\"#f7f7f7\"],[0.6,\"#e6f5d0\"],[0.7,\"#b8e186\"],[0.8,\"#7fbc41\"],[0.9,\"#4d9221\"],[1,\"#276419\"]]},\"xaxis\":{\"gridcolor\":\"white\",\"linecolor\":\"white\",\"ticks\":\"\",\"title\":{\"standoff\":15},\"zerolinecolor\":\"white\",\"automargin\":true,\"zerolinewidth\":2},\"yaxis\":{\"gridcolor\":\"white\",\"linecolor\":\"white\",\"ticks\":\"\",\"title\":{\"standoff\":15},\"zerolinecolor\":\"white\",\"automargin\":true,\"zerolinewidth\":2},\"scene\":{\"xaxis\":{\"backgroundcolor\":\"#E5ECF6\",\"gridcolor\":\"white\",\"linecolor\":\"white\",\"showbackground\":true,\"ticks\":\"\",\"zerolinecolor\":\"white\",\"gridwidth\":2},\"yaxis\":{\"backgroundcolor\":\"#E5ECF6\",\"gridcolor\":\"white\",\"linecolor\":\"white\",\"showbackground\":true,\"ticks\":\"\",\"zerolinecolor\":\"white\",\"gridwidth\":2},\"zaxis\":{\"backgroundcolor\":\"#E5ECF6\",\"gridcolor\":\"white\",\"linecolor\":\"white\",\"showbackground\":true,\"ticks\":\"\",\"zerolinecolor\":\"white\",\"gridwidth\":2}},\"shapedefaults\":{\"line\":{\"color\":\"#2a3f5f\"}},\"annotationdefaults\":{\"arrowcolor\":\"#2a3f5f\",\"arrowhead\":0,\"arrowwidth\":1},\"geo\":{\"bgcolor\":\"white\",\"landcolor\":\"#E5ECF6\",\"subunitcolor\":\"white\",\"showland\":true,\"showlakes\":true,\"lakecolor\":\"white\"},\"title\":{\"x\":0.05},\"mapbox\":{\"style\":\"light\"}}},\"title\":{\"text\":\"Literacy rate and gender\"},\"xaxis\":{\"title\":{\"text\":\"States\"}},\"yaxis\":{\"title\":{\"text\":\"Rates\"}}},                        {\"responsive\": true}                    ).then(function(){\n",
              "                            \n",
              "var gd = document.getElementById('bbcbf6f9-04a3-49ca-b3f3-1d5dc16d1a2f');\n",
              "var x = new MutationObserver(function (mutations, observer) {{\n",
              "        var display = window.getComputedStyle(gd).display;\n",
              "        if (!display || display === 'none') {{\n",
              "            console.log([gd, 'removed!']);\n",
              "            Plotly.purge(gd);\n",
              "            observer.disconnect();\n",
              "        }}\n",
              "}});\n",
              "\n",
              "// Listen for the removal of the full notebook cells\n",
              "var notebookContainer = gd.closest('#notebook-container');\n",
              "if (notebookContainer) {{\n",
              "    x.observe(notebookContainer, {childList: true});\n",
              "}}\n",
              "\n",
              "// Listen for the clearing of the current output cell\n",
              "var outputEl = gd.closest('.output');\n",
              "if (outputEl) {{\n",
              "    x.observe(outputEl, {childList: true});\n",
              "}}\n",
              "\n",
              "                        })                };                            </script>        </div>\n",
              "</body>\n",
              "</html>"
            ]
          },
          "metadata": {}
        }
      ]
    },
    {
      "cell_type": "code",
      "metadata": {
        "id": "pRvgOVqsb4qK"
      },
      "source": [
        "sorted_df_1=factors_df.sort_values('% Crime contribution')\n",
        "sorted_df_2=factors_df.sort_values('Literacy rate')\n",
        "sorted_df_3=factors_df.sort_values('Poverty rate')\n",
        "sorted_df_4=factors_df.sort_values('Unemployment rate')"
      ],
      "execution_count": null,
      "outputs": []
    },
    {
      "cell_type": "code",
      "source": [
        "fig, axs = plt.subplots(2, 2, figsize=(18, 10))\n",
        "axs[0, 0].bar(sorted_df_1['State/UT'], sorted_df_1['% Crime contribution'], width=0.5)\n",
        "axs[0, 0].set_xlabel(\"State/UT\", size=15)\n",
        "axs[0, 0].set_ylabel(\"Crime contribution in percent\", size=15)\n",
        "axs[0, 0].set_title(\"Crime Contribution per State\", size=15)\n",
        "axs[0, 0].tick_params(axis='x', rotation=90)\n",
        "\n",
        "axs[0, 1].bar(sorted_df_2['State/UT'], sorted_df_2['Literacy rate'], width=0.5, color='gold')\n",
        "axs[0, 1].set_xlabel(\"State/UT\", size=15)\n",
        "axs[0, 1].set_ylabel(\"Literacy rate\", size=15)\n",
        "axs[0, 1].set_title(\"Literacy Rate per State\", size=15)\n",
        "axs[0, 1].tick_params(axis='x', rotation=90)\n",
        "\n",
        "sorted_df3 = sorted_df.sort_values(by='Poverty rate')\n",
        "axs[1, 0].bar(sorted_df_3['State/UT'], sorted_df_3['Poverty rate'], width=0.5, color='firebrick')\n",
        "axs[1, 0].set_xlabel(\"State/UT\", size=15)\n",
        "axs[1, 0].set_ylabel(\"Poverty rate\", size=15)\n",
        "axs[1, 0].set_title(\"Poverty Rate per State\", size=15)\n",
        "axs[1, 0].tick_params(axis='x', rotation=90)\n",
        "\n",
        "# 4th Plot - Unemployment Rate\n",
        "sorted_df4 = sorted_df.sort_values(by='Unemployment rate')\n",
        "axs[1, 1].bar(sorted_df_4['State/UT'], sorted_df_4['Unemployment rate'], width=0.5, color='olive')\n",
        "axs[1, 1].set_xlabel(\"State/UT\", size=15)\n",
        "axs[1, 1].set_ylabel(\"Unemployment rate\", size=15)\n",
        "axs[1, 1].set_title(\"Unemployment Rate per State\", size=15)\n",
        "axs[1, 1].tick_params(axis='x', rotation=90)\n",
        "\n",
        "\n",
        "plt.subplots_adjust(hspace=0.8)"
      ],
      "metadata": {
        "colab": {
          "base_uri": "https://localhost:8080/",
          "height": 915
        },
        "id": "GiA1RMcYR-h-",
        "outputId": "a7d6fa5e-5d2d-44ad-97d8-53317295f6f0"
      },
      "execution_count": null,
      "outputs": [
        {
          "output_type": "display_data",
          "data": {
            "text/plain": [
              "<Figure size 1800x1000 with 4 Axes>"
            ],
            "image/png": "[encoded data removed]"
          },
          "metadata": {}
        }
      ]
    },
    {
      "cell_type": "markdown",
      "source": [
        "### Literacy Plots"
      ],
      "metadata": {
        "id": "0VpunYrLUmvt"
      }
    },
    {
      "cell_type": "code",
      "metadata": {
        "id": "VCApuUqWekv3"
      },
      "source": [
        "# plt.figure(figsize=(10,6))\n",
        "# plt.bar('State/UT', '% Crime contribution',data=sorted_df_1, width=0.5)\n",
        "# plt.xlabel(\"State/UT\", size=15)\n",
        "# plt.ylabel(\"Crime contribution in per cent\", size=15)\n",
        "# plt.title(\"Crime Contribution per State\", size=15)\n",
        "# plt.xticks(rotation='vertical')\n",
        "# plt.show()"
      ],
      "execution_count": null,
      "outputs": []
    },
    {
      "cell_type": "code",
      "metadata": {
        "id": "r4kAHS4DCKY-"
      },
      "source": [
        "# plt.figure(figsize=(10,6))\n",
        "# plt.bar('State/UT', 'Literacy rate',data=sorted_df_2, width=0.5, color='gold')\n",
        "# plt.xlabel(\"State/UT\", size=15)\n",
        "# plt.ylabel(\"Literacy rate\", size=15)\n",
        "# plt.title(\"Literacy rate per State\", size=15)\n",
        "# plt.xticks(rotation='vertical')\n",
        "# plt.show()"
      ],
      "execution_count": null,
      "outputs": []
    },
    {
      "cell_type": "code",
      "metadata": {
        "id": "WULlicnnCY0X"
      },
      "source": [
        "# plt.figure(figsize=(10,6))\n",
        "# plt.bar('State/UT', 'Poverty rate',data=sorted_df_3, width=0.5, color='firebrick')\n",
        "# plt.xlabel(\"State/UT\", size=15)\n",
        "# plt.ylabel(\"Poverty rate\", size=15)\n",
        "# plt.title(\"poverty rate per State\", size=15)\n",
        "# plt.xticks(rotation='vertical')\n",
        "# plt.show()"
      ],
      "execution_count": null,
      "outputs": []
    },
    {
      "cell_type": "code",
      "metadata": {
        "id": "iimaYBvXDhv2"
      },
      "source": [
        "# plt.figure(figsize=(10,6))\n",
        "# plt.bar('State/UT', 'Unemployment rate',data=sorted_df_4, width=0.5, color='olive')\n",
        "# plt.xlabel(\"State/UT\", size=15)\n",
        "# plt.ylabel(\"Unemployment rate\", size=15)\n",
        "# plt.title(\"Unemployment per State\", size=15)\n",
        "# plt.xticks(rotation='vertical')\n",
        "# plt.show()"
      ],
      "execution_count": null,
      "outputs": []
    },
    {
      "cell_type": "code",
      "metadata": {
        "id": "BXaXfFRLDpPH"
      },
      "source": [],
      "execution_count": null,
      "outputs": []
    }
  ]
}